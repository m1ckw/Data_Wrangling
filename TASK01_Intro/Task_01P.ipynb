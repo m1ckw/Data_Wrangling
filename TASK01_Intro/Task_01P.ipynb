{
 "cells": [
  {
   "cell_type": "markdown",
   "id": "548c4302",
   "metadata": {},
   "source": [
    "<hr style=\"height:1px; width:100%\">\n",
    "\n",
    "<h2 style=\"color:#336699\">TASK 01P: Introduction to Python and Jupyter Notebooks</h2>\n",
    "\n",
    "<p style=\"color:#204060; font-size:16px\";>\n",
    "    Created by: &emsp;&emsp;&emsp; Mick Wiedermann<br>\n",
    "    Student Number: &ensp;3315-267<br>\n",
    "    Email Address: &emsp;&ensp; mwiedermann@deakin.edu.au<br><br>\n",
    "    <i>Computer Science Undergraduate - Data Science Major</i>\n",
    "</p>\n",
    "\n",
    "<hr style=\"height:1px; width:100%\">\n",
    "\n",
    "\n",
    "<p style=\"color:#336699; font-size:16px\";><i>Importing the required modules</i></p>"
   ]
  },
  {
   "cell_type": "code",
   "execution_count": 1,
   "id": "37582f34",
   "metadata": {},
   "outputs": [],
   "source": [
    "import matplotlib.pyplot as plt\n",
    "import random                    # Random number generation\n",
    "from faker import Faker          # Mock data generator\n",
    "import colorama                  # For styling and colouring output text\n",
    "from colorama import Fore, Style\n",
    "fake = Faker('en_AU')            # Set locality to Australia "
   ]
  },
  {
   "cell_type": "markdown",
   "id": "434ab29a",
   "metadata": {},
   "source": [
    "\n",
    "<hr style=\"height:1px; width:100%\">\n",
    "\n",
    "<h3 style=\"color:#336699\"> Task 1</h3>\n",
    "\n",
    "<p style=\"color:#204060; font-size:16px\" >\n",
    "    <ul style=\"color:#204060; font-size:16px\";>\n",
    "        <li>Generating three Python lists of identical lengths (at least 5 items each) giving basic data on your friends/family real or imaginary:</li>\n",
    "    </ul>\n",
    "</p>\n",
    "\n",
    "<p style=\"color:#204060; font-size:16px\" >\n",
    "Below we start by declaring three empty lists before setting the desired number of elements to be generated for each list with <i>\"num_elements\"</i>. Below that, we set the seeds for the random name and number generation. The seeds allow us to reproduce the same data each time we run the code. \n",
    "</p>\n",
    "<p style=\"color:#204060; font-size:16px\" >\n",
    "We then use a for loop in the range of the <i>\"num_elements\"</i> to append to each list the desired random data. The numbers indicated in the <i>\"rand_int()\"</i> function represent the ranges for the random numbers. Lastly, we print the contents of our list again using a for loop and an if/else statement to ensure proper formatting of the output.  \n",
    "</p>"
   ]
  },
  {
   "cell_type": "code",
   "execution_count": 2,
   "id": "4efe5641",
   "metadata": {},
   "outputs": [
    {
     "name": "stdout",
     "output_type": "stream",
     "text": [
      "\u001b[1m\n",
      "NAME\t\t\tHEIGHT\tWEIGHT\u001b[0m\n",
      "Allison Hill\t\t164cm\t61kg\n",
      "Noah Rhodes\t\t185cm\t75kg\n",
      "Angie Henderson\t\t178cm\t68kg\n",
      "Daniel Wagner\t\t163cm\t103kg\n",
      "Cristian Santos\t\t219cm\t65kg\n",
      "Connie Lawrence\t\t204cm\t62kg\n",
      "Abigail Shaffer\t\t153cm\t65kg\n",
      "Gina Moore\t\t177cm\t74kg\n",
      "Gabrielle Davis\t\t214cm\t98kg\n",
      "Ryan Munoz\t\t153cm\t95kg\n"
     ]
    }
   ],
   "source": [
    "names = []        # If prefered, enter names in quotation marks, ex: ['Mark', 'Jill']\n",
    "heights_cm = []   # Numbers just require seperation by comma's ex: [159, 198]\n",
    "weights_kg = []\n",
    "\n",
    "num_elements = 10 # The desired number of elements in each list. \n",
    "Faker.seed(42)    # Remove or change the number for a new set of friends.\n",
    "random.seed(42)   # Remove or change the number for new BMIs.\n",
    "\n",
    "for _ in range(num_elements): \n",
    "    names.append(fake.name())\n",
    "    heights_cm.append(random.randint(150, 220))\n",
    "    weights_kg.append(random.randint(60, 120))\n",
    "\n",
    "print(Style.BRIGHT + '\\nNAME\\t\\t\\tHEIGHT\\tWEIGHT' + Style.RESET_ALL)\n",
    "for i in range(len(names)):\n",
    "    # If statement to acheive the same space between name and heights.\n",
    "    if len(names[i]) <= 15: # Checks the length of the name.\n",
    "        print(f'{names[i]}\\t\\t{heights_cm[i]}cm\\t{weights_kg[i]}kg')\n",
    "    else:\n",
    "        print(f'{names[i]}\\t{heights_cm[i]}cm\\t{weights_kg[i]}kg')    "
   ]
  },
  {
   "cell_type": "markdown",
   "id": "81b42fa8",
   "metadata": {},
   "source": [
    "<hr style=\"height:1px; width:100%\">\n",
    "\n",
    "<h3 style=\"color:#336699\"> Task 2</h3>\n",
    "\n",
    "<p style=\"color:#204060; font-size:16px\" >\n",
    "    <ul style=\"color:#204060; font-size:16px\";>\n",
    "        <li>Creating a Python list \"bmis\" such that bmis[i] gives the body mass index of the i-th person:</li>\n",
    "    </ul>\n",
    "</p>\n",
    "<p style=\"color:#204060; font-size:16px\" >\n",
    "Again we start by delcaring our list <i>\"bmis\"</i> before using a for loop to calculate each of the BMIs and appending each result to the list <i>\"bmis\"</i>. We then print the contents of the list with another loop.\n",
    "</p><br>\n"
   ]
  },
  {
   "cell_type": "code",
   "execution_count": 3,
   "id": "2857b9bd",
   "metadata": {},
   "outputs": [
    {
     "name": "stdout",
     "output_type": "stream",
     "text": [
      "\u001b[1mBMIs:\u001b[0m\n",
      "  22.679952409280194\n",
      "  21.913805697589478\n",
      "  21.461936624163616\n",
      "  38.76698407919004\n",
      "  13.552678217718563\n",
      "  14.898116109188773\n",
      "  27.76709812465291\n",
      "  23.620287912158062\n",
      "  21.399248842693684\n",
      "  40.582681874492714\n"
     ]
    }
   ],
   "source": [
    "bmis = [] # New empty list for the BMI's\n",
    "\n",
    "for i in range(len(heights_cm)):\n",
    "    bmis.append(weights_kg[i]/((heights_cm[i]/100)**2))\n",
    "\n",
    "print(Style.BRIGHT + 'BMIs:' + Style.RESET_ALL)\n",
    "for bmi in bmis:\n",
    "    print(' ', bmi)"
   ]
  },
  {
   "cell_type": "markdown",
   "id": "0ba20358",
   "metadata": {},
   "source": [
    "<p style=\"color:#204060; font-size:16px\";>\n",
    "    Printing the BMIs in a table format along side the other data while rounding the BMI to 2 decimal places.\n",
    "</p>"
   ]
  },
  {
   "cell_type": "code",
   "execution_count": 4,
   "id": "4d29d5d6",
   "metadata": {},
   "outputs": [
    {
     "name": "stdout",
     "output_type": "stream",
     "text": [
      "\u001b[1m\n",
      "NAME\t\t\tHEIGHT\tWEIGHT\tBMI\u001b[0m\n",
      "Allison Hill\t\t164cm\t61kg\t22.68\n",
      "Noah Rhodes\t\t185cm\t75kg\t21.91\n",
      "Angie Henderson\t\t178cm\t68kg\t21.46\n",
      "Daniel Wagner\t\t163cm\t103kg\t38.77\n",
      "Cristian Santos\t\t219cm\t65kg\t13.55\n",
      "Connie Lawrence\t\t204cm\t62kg\t14.90\n",
      "Abigail Shaffer\t\t153cm\t65kg\t27.77\n",
      "Gina Moore\t\t177cm\t74kg\t23.62\n",
      "Gabrielle Davis\t\t214cm\t98kg\t21.40\n",
      "Ryan Munoz\t\t153cm\t95kg\t40.58\n"
     ]
    }
   ],
   "source": [
    "print(Style.BRIGHT + '\\nNAME\\t\\t\\tHEIGHT\\tWEIGHT\\tBMI' + Style.RESET_ALL)\n",
    "\n",
    "for i in range(len(names)):\n",
    "    # If statement to acheive the same space between name and heights.\n",
    "    if len(names[i]) <= 15: # Checks the length of the name.\n",
    "        print(f'{names[i]}\\t\\t{heights_cm[i]}cm\\t{weights_kg[i]}kg\\t{bmis[i]:.2f}')\n",
    "    else:\n",
    "        print(f'{names[i]}\\t{heights_cm[i]}cm\\t{weights_kg[i]}kg\\t{bmis[i]:.2f}')"
   ]
  },
  {
   "cell_type": "markdown",
   "id": "341387ad",
   "metadata": {},
   "source": [
    "<hr style=\"height:1px; width:100%\">\n",
    "\n",
    "<h3 style=\"color:#336699\"> Task 3</h3>\n",
    "\n",
    "<p style=\"color:#204060; font-size:16px\" >\n",
    "    <ul style=\"color:#204060; font-size:16px\";>\n",
    "        <li>Generating a barplot of the BMI data with the names along the x-axis and BMI's along the y-axis:</li>\n",
    "    </ul>\n",
    "</p>\n",
    "<p style=\"color:#204060; font-size:16px\" >\n",
    "For a better visual representation of the data, it would be ideal to colour code the bars in the chart to match the each individuals BMI category. To generate a list of corosponding colours we have used a if/else and a for loop saving the results to our list <i>\"colours\"</i>.\n",
    "</p>"
   ]
  },
  {
   "cell_type": "code",
   "execution_count": 5,
   "id": "94bb097d",
   "metadata": {},
   "outputs": [],
   "source": [
    "colours = []\n",
    "\n",
    "for bmi in bmis:\n",
    "    if bmi < 18.5:\n",
    "        colours.append('c')\n",
    "    elif bmi < 25:\n",
    "        colours.append('g')\n",
    "    elif bmi < 30:\n",
    "        colours.append('m')\n",
    "    else:\n",
    "        colours.append('r')"
   ]
  },
  {
   "cell_type": "markdown",
   "id": "8507dd45",
   "metadata": {},
   "source": [
    "<p style=\"color:#204060; font-size:16px\" >\n",
    "The first three declared elements below, <i>\"bmi_cat\", \"labels\", \"handles\"</i>, are used to generate the legend for the bar chart, otherwise, our colours generated above won't have any meaning. The section below that defines and renders our bar chart.  \n",
    "</p>"
   ]
  },
  {
   "cell_type": "code",
   "execution_count": 6,
   "id": "524dedd3",
   "metadata": {},
   "outputs": [
    {
     "data": {
      "image/png": "[encoded data removed]",
      "text/plain": [
       "<Figure size 864x432 with 1 Axes>"
      ]
     },
     "metadata": {
      "needs_background": "light"
     },
     "output_type": "display_data"
    }
   ],
   "source": [
    "bmi_cat = {'Underweight':'c', 'Healthy':'g', 'Overweight':'m', 'Obese':'r'}\n",
    "labels = list(bmi_cat.keys())\n",
    "handles = [plt.Rectangle((0,0),1,1, color=bmi_cat[label]) for label in labels]\n",
    "\n",
    "# Generating the bar chart.\n",
    "plt.figure(figsize=(12,6))\n",
    "plt.bar(names, bmis, color=colours)\n",
    "plt.title('Imaginary Friends BMIs', pad=20, size=14)\n",
    "plt.xlabel('Names', size=12)\n",
    "plt.ylabel('BMI\\n', size=12)\n",
    "plt.xticks(rotation=60)\n",
    "plt.legend(handles, labels);"
   ]
  },
  {
   "cell_type": "markdown",
   "id": "e921e07e",
   "metadata": {},
   "source": [
    "<p style=\"color:#204060; font-size:16px\" >\n",
    "    Examining our bar chart, we can see that the colours make it immediately obvious who falls into what BMI category without having to read the metrics. Having exactly ten individuals, at glance we can see that 50% of our imaginary friends are categorised as healthy, 20% as obese and underweight with the remaining 10% categorised as overweight.    \n",
    "</p>"
   ]
  },
  {
   "cell_type": "markdown",
   "id": "880ee845",
   "metadata": {},
   "source": [
    "<hr style=\"height:1px; width:100%\">\n",
    "\n",
    "<h3 style=\"color:#336699\"> Task 4</h3>\n",
    "\n",
    "<p style=\"color:#204060; font-size:16px\" >\n",
    "    <ul style=\"color:#204060; font-size:16px\";>\n",
    "        <li>Generating colour coded output based on the BMI categories defined by the WHO for each of my imaginary friends:</li>\n",
    "    </ul>\n",
    "</p>\n",
    "<p style=\"color:#204060; font-size:16px\" >\n",
    "Continuing on with the colour coded categories as used in our bar chart, the funtion below <i>\"bmi_results\"</i> takes a BMI as an argument and returns the corosponding statement and colours the output of that line when printed.\n",
    "</p>"
   ]
  },
  {
   "cell_type": "code",
   "execution_count": 7,
   "id": "548a9a21",
   "metadata": {},
   "outputs": [],
   "source": [
    "def bmi_result(bmi):\n",
    "    if bmi < 18.5:\n",
    "        print(Fore.CYAN, end='')\n",
    "        return 'that they may be underweight'\n",
    "    elif bmi < 25:\n",
    "        print(Fore.GREEN, end='')\n",
    "        return 'that they may be a heathly weight'\n",
    "    elif bmi < 30:\n",
    "        print(Fore.MAGENTA, end='')\n",
    "        return 'that they may be overwieght'\n",
    "    else:\n",
    "        print(Fore.RED, end='')\n",
    "        return 'that they may be obese'"
   ]
  },
  {
   "cell_type": "markdown",
   "id": "dcfd2571",
   "metadata": {},
   "source": [
    "<p style=\"color:#204060; font-size:16px\" >\n",
    "The following block of code generates our desired output. First printing the colour keys and then utilising a for loop and <i>\"f-strings\"</i>, i.e. python formatted print statements, to print each of the sentences defining the individual BMI categories.\n",
    "</p>"
   ]
  },
  {
   "cell_type": "code",
   "execution_count": 8,
   "id": "8fa13f76",
   "metadata": {},
   "outputs": [
    {
     "name": "stdout",
     "output_type": "stream",
     "text": [
      "Key:\u001b[36m Underweight \u001b[32m Healthy Wieght \u001b[35m Overweight \u001b[31m Obese\n",
      "\u001b[30m\n",
      "\u001b[30m\u001b[32mAllison Hill\t\thas a BMI of 22.68 which indicates that they may be a heathly weight.\n",
      "\u001b[30m\u001b[32mNoah Rhodes\t\thas a BMI of 21.91 which indicates that they may be a heathly weight.\n",
      "\u001b[30m\u001b[32mAngie Henderson\t\thas a BMI of 21.46 which indicates that they may be a heathly weight.\n",
      "\u001b[30m\u001b[31mDaniel Wagner\t\thas a BMI of 38.77 which indicates that they may be obese.\n",
      "\u001b[30m\u001b[36mCristian Santos\t\thas a BMI of 13.55 which indicates that they may be underweight.\n",
      "\u001b[30m\u001b[36mConnie Lawrence\t\thas a BMI of 14.90 which indicates that they may be underweight.\n",
      "\u001b[30m\u001b[35mAbigail Shaffer\t\thas a BMI of 27.77 which indicates that they may be overwieght.\n",
      "\u001b[30m\u001b[32mGina Moore\t\thas a BMI of 23.62 which indicates that they may be a heathly weight.\n",
      "\u001b[30m\u001b[32mGabrielle Davis\t\thas a BMI of 21.40 which indicates that they may be a heathly weight.\n",
      "\u001b[30m\u001b[31mRyan Munoz\t\thas a BMI of 40.58 which indicates that they may be obese.\n"
     ]
    }
   ],
   "source": [
    "print('Key:', end='')\n",
    "print(Fore.CYAN + ' Underweight ' + Fore.GREEN + ' Healthy Wieght ' + Fore.MAGENTA +\n",
    "     ' Overweight ' + Fore.RED + ' Obese\\n' + Fore.BLACK)\n",
    "    \n",
    "for i in range(len(names)): # For each name, print their BMI results.\n",
    "    print(Fore.BLACK, end='') # Resets the colour at each loop\n",
    "    # If statement to acheive the same space between name and sentence. \n",
    "    if len(names[i]) <= 15:\n",
    "        print(f'{names[i]}\\t\\thas a BMI of {bmis[i]:.2f} which indicates {bmi_result(bmis[i])}.')\n",
    "    else:\n",
    "        print(f'{names[i]}\\thas a BMI of {bmis[i]:.2f} which indicates {bmi_result(bmis[i])}.')"
   ]
  },
  {
   "cell_type": "markdown",
   "id": "ca960517",
   "metadata": {},
   "source": [
    "<hr style=\"height:1px; width:100%\">\n",
    "\n",
    "<h3 style=\"color:#336699\"> Task 5</h3>\n",
    "\n",
    "<p style=\"color:#204060; font-size:16px\" >\n",
    "    <ul style=\"color:#204060; font-size:16px\";>\n",
    "        <li>The Wikipedia article on BMI correctly identifies this index as a very simple measure. Examining the benefits and limitations of BMI from both the medical and societal perspective, including its possible misuses:</li>\n",
    "    </ul>\n",
    "</p>"
   ]
  },
  {
   "cell_type": "markdown",
   "id": "788eefdd",
   "metadata": {},
   "source": [
    "<h3 style=\"color:#336699\">Body Mass Index</h3>\n",
    "\n",
    "<p style=\"color:#204060; font-size:16px\";>\n",
    "    As we know, the Body Mass Index (BMI) is a simple measurement relative to one's height and weight calculated by dividing the weight in kilograms by the height in meters squared; <i>weight (kg) &#8725; height (m) <sup>2</sup></i>. The resulting number, the BMI, indicates your weight category based on predefined ranges developed by the World Health Organisation. The measurement is a simple ratio, therefore, we can't expect it to provide much more information than a basic indication of one's health, however, it's not alway considered as such.\n",
    "</p>\n",
    "<p style=\"color:#204060; font-size:16px\";>\n",
    "    The original intended purpose of BMIs was to measure the rates of obesity in a population which is where it shines, giving us insight into potentially related health risks and disease on a large scale which can help with resourse allocation and planning. On the individual level, a BMI is more of a guide that may prompt medical professionals to investigate high-risk health issues associated with a particular BMI.  \n",
    "</p>\n",
    "<p style=\"color:#204060; font-size:16px\";>\n",
    "    As mentioned, a BMI is not the full story. There is the potential to miss categorise someone who may be healthy. For example, an athlete may be categorised as underweight or heavily muscled person obese. Therefore, it would be prudent to include other measurements along with the BMI to achieve a more complete picture of an individual's health. \n",
    "</p>\n",
    "<p style=\"color:#204060; font-size:16px\";>\n",
    "    Even though a BMI doesn’t give us the full picture they are often used in industries other than health to guide decisions and even allow participation. For example, in some countries, if a fashion model has a BMI below 18 then it is illegal for them to participate in fashion shows. The goal here is to fight eating disorders which you could argue is a positive application. In the insurance industry, if you have a \"high risk\" BMI, that is outside of the normal range, then you get an automatic premium loading which can add a substantial cost to your annual insurance premium. \n",
    "</p>\n",
    "<p style=\"color:#204060; font-size:16px\";>\n",
    "    In summary, a BMI is a good indicator of general health, however,  it shouldn’t be taken in isolation and should be considered in conjunction with other health indicators to achieve a full more acurate picture on an individuals overall health. \n",
    "</p><br>"
   ]
  },
  {
   "cell_type": "markdown",
   "id": "e0aa2884-c494-447d-87ea-0e558d975d98",
   "metadata": {},
   "source": [
    "<hr style=\"height:1px; width:100%\">\n",
    "<br>\n",
    "<h3> References </h3>\n",
    "<p>\n",
    "    <ul>\n",
    "        <li>Faker Documentation (produces mock data): \n",
    "            <a href=\"https://pypi.org/project/Faker/\">pypi.org</a></li>\n",
    "        <li>Matplotlib Documentation: \n",
    "            <a href=\"https://matplotlib.org/stable/tutorials/introductory/index.html\">matplotlib.org</a></li>\n",
    "        <li>Linux Hint (Colorama in python): \n",
    "            <a href=\"https://linuxhint.com/colorama-python/\">linuxhint.com</a></li>\n",
    "        <li>Wikipedia (Body Mass Index): \n",
    "            <a href=\"https://en.wikipedia.org/wiki/Body_mass_index\">wikipedia.org</a></li>\n",
    "    </ul>"
   ]
  }
 ],
 "metadata": {
  "kernelspec": {
   "display_name": "Python 3 (ipykernel)",
   "language": "python",
   "name": "python3"
  },
  "language_info": {
   "codemirror_mode": {
    "name": "ipython",
    "version": 3
   },
   "file_extension": ".py",
   "mimetype": "text/x-python",
   "name": "python",
   "nbconvert_exporter": "python",
   "pygments_lexer": "ipython3",
   "version": "3.9.7"
  }
 },
 "nbformat": 4,
 "nbformat_minor": 5
}
