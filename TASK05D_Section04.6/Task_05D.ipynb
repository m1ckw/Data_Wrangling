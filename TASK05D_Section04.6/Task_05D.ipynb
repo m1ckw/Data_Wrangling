{
 "cells": [
  {
   "cell_type": "markdown",
   "id": "a80ea853",
   "metadata": {},
   "source": [
    "<hr style=\"height:1px; width:100%\">\n",
    "\n",
    "<h1 style=\"color:#336699\">TASK 05D: Working with Pandas DataFrames - Part 2</h1>\n",
    "\n",
    "<p style=\"color:#204060; font-size:16px\";>\n",
    "    Created by: &emsp;&emsp;&emsp; Mick Wiedermann<br>\n",
    "    Student Number: &ensp;2220-58299<br>\n",
    "    Email Address: &emsp;&ensp; mwiedermann@deakin.edu.au<br><br>\n",
    "    <i>Computer Science Undergraduate - Data Science Major</i>\n",
    "</p>\n",
    "\n",
    "<hr style=\"height:1px; width:100%\">\n",
    "\n",
    "\n",
    "<p style=\"color:#336699; font-size:16px\";><i>Importing the required modules</i></p>"
   ]
  },
  {
   "cell_type": "code",
   "execution_count": 1,
   "id": "ce6127d3",
   "metadata": {},
   "outputs": [],
   "source": [
    "import numpy as np\n",
    "import pandas as pd\n",
    "from IPython.display import display, Markdown\n",
    "\n",
    "import sqlite3\n",
    "import timeit"
   ]
  },
  {
   "cell_type": "markdown",
   "id": "2fa83764",
   "metadata": {},
   "source": [
    "<hr style=\"height:1px; width:100%\">\n",
    "\n",
    "<h2 style=\"color:#336699\"> Task 1: Downloading & Importing the Data</h2>\n",
    "\n",
    "Downloading the following from NYC flights dataset:\n",
    "\n",
    "* nycflights13_flights.csv – flights information,\n",
    "* nycflights13_airlines.csv – decodes two letter carrier codes,\n",
    "* nycflights13_airports.csv – airport data,\n",
    "* nycflights13_planes.csv – plane data,\n",
    "* nycflights13_weather.csv – hourly meteorological data for LGA, JFK, and EWR.\n",
    "\n",
    "**Flights**"
   ]
  },
  {
   "cell_type": "code",
   "execution_count": 2,
   "id": "8e3a685c",
   "metadata": {},
   "outputs": [
    {
     "name": "stdout",
     "output_type": "stream",
     "text": [
      "(336776, 19)\n"
     ]
    },
    {
     "data": {
      "text/html": [
       "<div>\n",
       "<style scoped>\n",
       "    .dataframe tbody tr th:only-of-type {\n",
       "        vertical-align: middle;\n",
       "    }\n",
       "\n",
       "    .dataframe tbody tr th {\n",
       "        vertical-align: top;\n",
       "    }\n",
       "\n",
       "    .dataframe thead th {\n",
       "        text-align: right;\n",
       "    }\n",
       "</style>\n",
       "<table border=\"1\" class=\"dataframe\">\n",
       "  <thead>\n",
       "    <tr style=\"text-align: right;\">\n",
       "      <th></th>\n",
       "      <th>year</th>\n",
       "      <th>month</th>\n",
       "      <th>day</th>\n",
       "      <th>dep_time</th>\n",
       "      <th>sched_dep_time</th>\n",
       "      <th>dep_delay</th>\n",
       "      <th>arr_time</th>\n",
       "      <th>sched_arr_time</th>\n",
       "      <th>arr_delay</th>\n",
       "      <th>carrier</th>\n",
       "      <th>flight</th>\n",
       "      <th>tailnum</th>\n",
       "      <th>origin</th>\n",
       "      <th>dest</th>\n",
       "      <th>air_time</th>\n",
       "      <th>distance</th>\n",
       "      <th>hour</th>\n",
       "      <th>minute</th>\n",
       "      <th>time_hour</th>\n",
       "    </tr>\n",
       "  </thead>\n",
       "  <tbody>\n",
       "    <tr>\n",
       "      <th>0</th>\n",
       "      <td>2013</td>\n",
       "      <td>1</td>\n",
       "      <td>1</td>\n",
       "      <td>517.0</td>\n",
       "      <td>515</td>\n",
       "      <td>2.0</td>\n",
       "      <td>830.0</td>\n",
       "      <td>819</td>\n",
       "      <td>11.0</td>\n",
       "      <td>UA</td>\n",
       "      <td>1545</td>\n",
       "      <td>N14228</td>\n",
       "      <td>EWR</td>\n",
       "      <td>IAH</td>\n",
       "      <td>227.0</td>\n",
       "      <td>1400</td>\n",
       "      <td>5</td>\n",
       "      <td>15</td>\n",
       "      <td>2013-01-01 05:00:00</td>\n",
       "    </tr>\n",
       "    <tr>\n",
       "      <th>1</th>\n",
       "      <td>2013</td>\n",
       "      <td>1</td>\n",
       "      <td>1</td>\n",
       "      <td>533.0</td>\n",
       "      <td>529</td>\n",
       "      <td>4.0</td>\n",
       "      <td>850.0</td>\n",
       "      <td>830</td>\n",
       "      <td>20.0</td>\n",
       "      <td>UA</td>\n",
       "      <td>1714</td>\n",
       "      <td>N24211</td>\n",
       "      <td>LGA</td>\n",
       "      <td>IAH</td>\n",
       "      <td>227.0</td>\n",
       "      <td>1416</td>\n",
       "      <td>5</td>\n",
       "      <td>29</td>\n",
       "      <td>2013-01-01 05:00:00</td>\n",
       "    </tr>\n",
       "  </tbody>\n",
       "</table>\n",
       "</div>"
      ],
      "text/plain": [
       "   year  month  day  dep_time  sched_dep_time  dep_delay  arr_time  \\\n",
       "0  2013      1    1     517.0             515        2.0     830.0   \n",
       "1  2013      1    1     533.0             529        4.0     850.0   \n",
       "\n",
       "   sched_arr_time  arr_delay carrier  flight tailnum origin dest  air_time  \\\n",
       "0             819       11.0      UA    1545  N14228    EWR  IAH     227.0   \n",
       "1             830       20.0      UA    1714  N24211    LGA  IAH     227.0   \n",
       "\n",
       "   distance  hour  minute            time_hour  \n",
       "0      1400     5      15  2013-01-01 05:00:00  \n",
       "1      1416     5      29  2013-01-01 05:00:00  "
      ]
     },
     "execution_count": 2,
     "metadata": {},
     "output_type": "execute_result"
    }
   ],
   "source": [
    "Flights = pd.read_csv('nycflights13_flights.csv', comment='#')\n",
    "print(Flights.shape)\n",
    "Flights.head(2) "
   ]
  },
  {
   "cell_type": "markdown",
   "id": "93ca9f3a",
   "metadata": {},
   "source": [
    "Columns:\n",
    "* `dep_time` and `arr_time` - The actual depart and arrive times.\n",
    "* `sched_dep_time` and `sched_arr_time` - The scheduled depart and arrive times.\n",
    "* `dep_delay` and `arr_delay` - The depart and arrive delay time in minutes. \n",
    "* `carrier` - Airline code (name in airline dataset).\n",
    "* `flight` and `tailnum` - ID numbers.\n",
    "* `origin` and `dest` - Airport ID codes.\n",
    "* `air_time` - Amount of time in the air in minutes.\n",
    "* `distance` - Between origin and destination in miles. \n",
    "* `hour` and `minute` - Is the `sched_dep_time` broken into hour and minute. \n",
    "* `time_hour` - Schedule date and hour of departure (Can be used to join to flights dataset)\n",
    "\n",
    "**Airlines**"
   ]
  },
  {
   "cell_type": "code",
   "execution_count": 3,
   "id": "5378a5a3",
   "metadata": {},
   "outputs": [
    {
     "name": "stdout",
     "output_type": "stream",
     "text": [
      "(16, 2)\n"
     ]
    },
    {
     "data": {
      "text/html": [
       "<div>\n",
       "<style scoped>\n",
       "    .dataframe tbody tr th:only-of-type {\n",
       "        vertical-align: middle;\n",
       "    }\n",
       "\n",
       "    .dataframe tbody tr th {\n",
       "        vertical-align: top;\n",
       "    }\n",
       "\n",
       "    .dataframe thead th {\n",
       "        text-align: right;\n",
       "    }\n",
       "</style>\n",
       "<table border=\"1\" class=\"dataframe\">\n",
       "  <thead>\n",
       "    <tr style=\"text-align: right;\">\n",
       "      <th></th>\n",
       "      <th>carrier</th>\n",
       "      <th>name</th>\n",
       "    </tr>\n",
       "  </thead>\n",
       "  <tbody>\n",
       "    <tr>\n",
       "      <th>0</th>\n",
       "      <td>9E</td>\n",
       "      <td>Endeavor Air Inc.</td>\n",
       "    </tr>\n",
       "    <tr>\n",
       "      <th>1</th>\n",
       "      <td>AA</td>\n",
       "      <td>American Airlines Inc.</td>\n",
       "    </tr>\n",
       "  </tbody>\n",
       "</table>\n",
       "</div>"
      ],
      "text/plain": [
       "  carrier                    name\n",
       "0      9E       Endeavor Air Inc.\n",
       "1      AA  American Airlines Inc."
      ]
     },
     "execution_count": 3,
     "metadata": {},
     "output_type": "execute_result"
    }
   ],
   "source": [
    "Airlines = pd.read_csv('nycflights13_airlines.csv', comment='#')\n",
    "print(Airlines.shape)\n",
    "Airlines.head(2) "
   ]
  },
  {
   "cell_type": "markdown",
   "id": "4219b723",
   "metadata": {},
   "source": [
    "Columns for the \"Airlines\" dataset: \n",
    "* `carrier` is a 2 letter abbreviation of the airline name - `name`.\n",
    "\n",
    "**Airports**"
   ]
  },
  {
   "cell_type": "code",
   "execution_count": 4,
   "id": "bf353213",
   "metadata": {},
   "outputs": [
    {
     "name": "stdout",
     "output_type": "stream",
     "text": [
      "(1458, 8)\n"
     ]
    },
    {
     "data": {
      "text/html": [
       "<div>\n",
       "<style scoped>\n",
       "    .dataframe tbody tr th:only-of-type {\n",
       "        vertical-align: middle;\n",
       "    }\n",
       "\n",
       "    .dataframe tbody tr th {\n",
       "        vertical-align: top;\n",
       "    }\n",
       "\n",
       "    .dataframe thead th {\n",
       "        text-align: right;\n",
       "    }\n",
       "</style>\n",
       "<table border=\"1\" class=\"dataframe\">\n",
       "  <thead>\n",
       "    <tr style=\"text-align: right;\">\n",
       "      <th></th>\n",
       "      <th>faa</th>\n",
       "      <th>name</th>\n",
       "      <th>lat</th>\n",
       "      <th>lon</th>\n",
       "      <th>alt</th>\n",
       "      <th>tz</th>\n",
       "      <th>dst</th>\n",
       "      <th>tzone</th>\n",
       "    </tr>\n",
       "  </thead>\n",
       "  <tbody>\n",
       "    <tr>\n",
       "      <th>0</th>\n",
       "      <td>04G</td>\n",
       "      <td>Lansdowne Airport</td>\n",
       "      <td>41.130472</td>\n",
       "      <td>-80.619583</td>\n",
       "      <td>1044</td>\n",
       "      <td>-5</td>\n",
       "      <td>A</td>\n",
       "      <td>America/New_York</td>\n",
       "    </tr>\n",
       "    <tr>\n",
       "      <th>1</th>\n",
       "      <td>06A</td>\n",
       "      <td>Moton Field Municipal Airport</td>\n",
       "      <td>32.460572</td>\n",
       "      <td>-85.680028</td>\n",
       "      <td>264</td>\n",
       "      <td>-6</td>\n",
       "      <td>A</td>\n",
       "      <td>America/Chicago</td>\n",
       "    </tr>\n",
       "  </tbody>\n",
       "</table>\n",
       "</div>"
      ],
      "text/plain": [
       "   faa                           name        lat        lon   alt  tz dst  \\\n",
       "0  04G              Lansdowne Airport  41.130472 -80.619583  1044  -5   A   \n",
       "1  06A  Moton Field Municipal Airport  32.460572 -85.680028   264  -6   A   \n",
       "\n",
       "              tzone  \n",
       "0  America/New_York  \n",
       "1   America/Chicago  "
      ]
     },
     "execution_count": 4,
     "metadata": {},
     "output_type": "execute_result"
    }
   ],
   "source": [
    "Airports = pd.read_csv('nycflights13_airports.csv', comment='#')\n",
    "print(Airports.shape)\n",
    "Airports.head(2)"
   ]
  },
  {
   "cell_type": "markdown",
   "id": "642c0cd6",
   "metadata": {},
   "source": [
    "Columns for the \"Airports\" dataset are as follows:\n",
    "* `faa` - FAA Airport Code \n",
    "* `name`, `lat`, `lon`, - Self explanatory\n",
    "* `alt` - Altitude of the airport\n",
    "* `tz` - Time zone offset from GMT\n",
    "* `dst` - Daylight Savings time zone (2nd Sunday of March - 1st Sunday November)\n",
    "* `tzone` - IANA Time zone (as determined by GeoNames webservice)\n",
    "\n",
    "**Planes**"
   ]
  },
  {
   "cell_type": "code",
   "execution_count": 5,
   "id": "289dc9db",
   "metadata": {},
   "outputs": [
    {
     "name": "stdout",
     "output_type": "stream",
     "text": [
      "(3322, 9)\n"
     ]
    },
    {
     "data": {
      "text/html": [
       "<div>\n",
       "<style scoped>\n",
       "    .dataframe tbody tr th:only-of-type {\n",
       "        vertical-align: middle;\n",
       "    }\n",
       "\n",
       "    .dataframe tbody tr th {\n",
       "        vertical-align: top;\n",
       "    }\n",
       "\n",
       "    .dataframe thead th {\n",
       "        text-align: right;\n",
       "    }\n",
       "</style>\n",
       "<table border=\"1\" class=\"dataframe\">\n",
       "  <thead>\n",
       "    <tr style=\"text-align: right;\">\n",
       "      <th></th>\n",
       "      <th>tailnum</th>\n",
       "      <th>year</th>\n",
       "      <th>type</th>\n",
       "      <th>manufacturer</th>\n",
       "      <th>model</th>\n",
       "      <th>engines</th>\n",
       "      <th>seats</th>\n",
       "      <th>speed</th>\n",
       "      <th>engine</th>\n",
       "    </tr>\n",
       "  </thead>\n",
       "  <tbody>\n",
       "    <tr>\n",
       "      <th>0</th>\n",
       "      <td>N10156</td>\n",
       "      <td>2004.0</td>\n",
       "      <td>Fixed wing multi engine</td>\n",
       "      <td>EMBRAER</td>\n",
       "      <td>EMB-145XR</td>\n",
       "      <td>2</td>\n",
       "      <td>55</td>\n",
       "      <td>NaN</td>\n",
       "      <td>Turbo-fan</td>\n",
       "    </tr>\n",
       "    <tr>\n",
       "      <th>1</th>\n",
       "      <td>N102UW</td>\n",
       "      <td>1998.0</td>\n",
       "      <td>Fixed wing multi engine</td>\n",
       "      <td>AIRBUS INDUSTRIE</td>\n",
       "      <td>A320-214</td>\n",
       "      <td>2</td>\n",
       "      <td>182</td>\n",
       "      <td>NaN</td>\n",
       "      <td>Turbo-fan</td>\n",
       "    </tr>\n",
       "  </tbody>\n",
       "</table>\n",
       "</div>"
      ],
      "text/plain": [
       "  tailnum    year                     type      manufacturer      model  \\\n",
       "0  N10156  2004.0  Fixed wing multi engine           EMBRAER  EMB-145XR   \n",
       "1  N102UW  1998.0  Fixed wing multi engine  AIRBUS INDUSTRIE   A320-214   \n",
       "\n",
       "   engines  seats  speed     engine  \n",
       "0        2     55    NaN  Turbo-fan  \n",
       "1        2    182    NaN  Turbo-fan  "
      ]
     },
     "execution_count": 5,
     "metadata": {},
     "output_type": "execute_result"
    }
   ],
   "source": [
    "Planes = pd.read_csv('nycflights13_planes.csv', comment='#')\n",
    "print(Planes.shape)\n",
    "Planes.head(2)"
   ]
  },
  {
   "cell_type": "markdown",
   "id": "3b9e10e5",
   "metadata": {},
   "source": [
    "Columns for the \"Planes\" dataset are fairly self explanitory with exception to `speed` which is the average crusing speed in mph and `year` which is the year of manufacture. \n",
    "\n",
    "**Weather**"
   ]
  },
  {
   "cell_type": "code",
   "execution_count": 6,
   "id": "69f0999a",
   "metadata": {},
   "outputs": [
    {
     "name": "stdout",
     "output_type": "stream",
     "text": [
      "(26130, 15)\n"
     ]
    },
    {
     "data": {
      "text/html": [
       "<div>\n",
       "<style scoped>\n",
       "    .dataframe tbody tr th:only-of-type {\n",
       "        vertical-align: middle;\n",
       "    }\n",
       "\n",
       "    .dataframe tbody tr th {\n",
       "        vertical-align: top;\n",
       "    }\n",
       "\n",
       "    .dataframe thead th {\n",
       "        text-align: right;\n",
       "    }\n",
       "</style>\n",
       "<table border=\"1\" class=\"dataframe\">\n",
       "  <thead>\n",
       "    <tr style=\"text-align: right;\">\n",
       "      <th></th>\n",
       "      <th>origin</th>\n",
       "      <th>year</th>\n",
       "      <th>month</th>\n",
       "      <th>day</th>\n",
       "      <th>hour</th>\n",
       "      <th>temp</th>\n",
       "      <th>dewp</th>\n",
       "      <th>humid</th>\n",
       "      <th>wind_dir</th>\n",
       "      <th>wind_speed</th>\n",
       "      <th>wind_gust</th>\n",
       "      <th>precip</th>\n",
       "      <th>pressure</th>\n",
       "      <th>visib</th>\n",
       "      <th>time_hour</th>\n",
       "    </tr>\n",
       "  </thead>\n",
       "  <tbody>\n",
       "    <tr>\n",
       "      <th>0</th>\n",
       "      <td>EWR</td>\n",
       "      <td>2013</td>\n",
       "      <td>1</td>\n",
       "      <td>1</td>\n",
       "      <td>0</td>\n",
       "      <td>37.04</td>\n",
       "      <td>21.92</td>\n",
       "      <td>53.97</td>\n",
       "      <td>230.0</td>\n",
       "      <td>10.35702</td>\n",
       "      <td>11.918651</td>\n",
       "      <td>0.0</td>\n",
       "      <td>1013.9</td>\n",
       "      <td>10.0</td>\n",
       "      <td>2013-01-01 01:00:00</td>\n",
       "    </tr>\n",
       "    <tr>\n",
       "      <th>1</th>\n",
       "      <td>EWR</td>\n",
       "      <td>2013</td>\n",
       "      <td>1</td>\n",
       "      <td>1</td>\n",
       "      <td>1</td>\n",
       "      <td>37.04</td>\n",
       "      <td>21.92</td>\n",
       "      <td>53.97</td>\n",
       "      <td>230.0</td>\n",
       "      <td>13.80936</td>\n",
       "      <td>15.891535</td>\n",
       "      <td>0.0</td>\n",
       "      <td>1013.0</td>\n",
       "      <td>10.0</td>\n",
       "      <td>2013-01-01 02:00:00</td>\n",
       "    </tr>\n",
       "  </tbody>\n",
       "</table>\n",
       "</div>"
      ],
      "text/plain": [
       "  origin  year  month  day  hour   temp   dewp  humid  wind_dir  wind_speed  \\\n",
       "0    EWR  2013      1    1     0  37.04  21.92  53.97     230.0    10.35702   \n",
       "1    EWR  2013      1    1     1  37.04  21.92  53.97     230.0    13.80936   \n",
       "\n",
       "   wind_gust  precip  pressure  visib            time_hour  \n",
       "0  11.918651     0.0    1013.9   10.0  2013-01-01 01:00:00  \n",
       "1  15.891535     0.0    1013.0   10.0  2013-01-01 02:00:00  "
      ]
     },
     "execution_count": 6,
     "metadata": {},
     "output_type": "execute_result"
    }
   ],
   "source": [
    "Weather = pd.read_csv('nycflights13_weather.csv', comment='#')\n",
    "print(Weather.shape)\n",
    "Weather.head(2)"
   ]
  },
  {
   "cell_type": "markdown",
   "id": "ce1d3964",
   "metadata": {},
   "source": [
    "Columns for the \"Weather\" dataset:\n",
    "* `origin` – weather station: LGA, JFK, or EWR,\n",
    "* `year`, `month`, `day`, `hour` – time of recording,\n",
    "* `temp`, `dewp` – temperature and dewpoint in degrees Fahrenheit,\n",
    "* `humid` – relative humidity,\n",
    "* `wind_dir`, `wind_speed`, `wind_gust` – wind direction (in degrees), speed and gust speed (in mph),\n",
    "* `precip` – precipitation, in inches,\n",
    "* `pressure` – sea level pressure in millibars,\n",
    "* `visib` – visibility in miles,\n",
    "* `time_hour` – date and hour (based on the year, month, day, hour fields) formatted as YYYY-mm-dd HH:MM:SS (actually, YYYY-mm-dd HH:00:00). However, due to a bug in the dataset, the data are shifted by 1 hour."
   ]
  },
  {
   "cell_type": "markdown",
   "id": "c297bd77",
   "metadata": {},
   "source": [
    "<hr style=\"height:1px; width:100%\">\n",
    "\n",
    "<h2 style=\"color:#336699\"> Task 1.1: Establish SQLite Connection</h2>\n",
    "\n",
    "Establishing a connection with a new SQLite database on the local disk."
   ]
  },
  {
   "cell_type": "code",
   "execution_count": 7,
   "id": "449534dc",
   "metadata": {},
   "outputs": [
    {
     "name": "stdout",
     "output_type": "stream",
     "text": [
      "/var/folders/0n/s19df3pj3515r5_vrmr7rst80000gn/T/tmpt6u4kqai/task_05D.db\n"
     ]
    }
   ],
   "source": [
    "import tempfile, os.path\n",
    "dbfile = os.path.join(tempfile.mkdtemp(), \"task_05D.db\")\n",
    "print(dbfile)"
   ]
  },
  {
   "cell_type": "code",
   "execution_count": 8,
   "id": "1750bdd7",
   "metadata": {},
   "outputs": [],
   "source": [
    "conn = sqlite3.connect(dbfile)"
   ]
  },
  {
   "cell_type": "markdown",
   "id": "ce6203a0",
   "metadata": {},
   "source": [
    "<hr style=\"height:1px; width:100%\">\n",
    "\n",
    "<h2 style=\"color:#336699\"> Task 1.2: Exporting the CSV files</h2>\n",
    "\n",
    "Exporting all the CSV files that have been imported into pandas to the new \"Task_05D\" SQLite database. "
   ]
  },
  {
   "cell_type": "code",
   "execution_count": 9,
   "id": "0f4731b5",
   "metadata": {},
   "outputs": [],
   "source": [
    "Flights.to_sql(\"Flights\", conn, index=False)\n",
    "Airlines.to_sql(\"Airlines\", conn, index=False)\n",
    "Airports.to_sql(\"Airports\", conn, index=False)\n",
    "Planes.to_sql(\"Planes\", conn, index=False)\n",
    "Weather.to_sql(\"Weather\", conn, index=False)"
   ]
  },
  {
   "cell_type": "markdown",
   "id": "ca6ae579",
   "metadata": {},
   "source": [
    "<hr style=\"height:1px; width:100%\">\n",
    "\n",
    "<h2 style=\"color:#336699\"> Task 1.3: Writting Equivilant SQL Queries in Pandas</h2>\n",
    "\n",
    "Writing code in pandas that yields equivalent results for each of the following SQL queries and explaining what each query does."
   ]
  },
  {
   "cell_type": "code",
   "execution_count": 10,
   "id": "69d6e7cb",
   "metadata": {},
   "outputs": [],
   "source": [
    "## Simple function to style timing results of function execution. \n",
    "\n",
    "def timer_results(start, end, obj):\n",
    "    time = end - start\n",
    "    display(Markdown(f'**Shape**: {obj.shape}. **Processing Time:** {time}.')) \n",
    "    \n",
    "    return time"
   ]
  },
  {
   "cell_type": "code",
   "execution_count": 11,
   "id": "545bebc8",
   "metadata": {},
   "outputs": [],
   "source": [
    "# Simple test function that generates a satisfying output when comparing objects.\n",
    "\n",
    "def compare(obj_1, obj_2, t1, t2):\n",
    "    if (t1 < t2):\n",
    "        time = t2/t1\n",
    "        display(Markdown(f'The **SQL** Query was a factor of {time:.2f} times faster than the Pandas.')) \n",
    "    else:\n",
    "        time = t1/t2\n",
    "        display(Markdown(f'The **Pandas** Query was a factor of {time:.2f} times faster than the SQL.')) \n",
    "        \n",
    "    if (obj_1.equals(obj_2)): \n",
    "        display(Markdown('<h3><span style=\"color:#008000\">Pandas SQL & Pure Pandas objects are a match!</span><h3>')) \n",
    "    else:\n",
    "        display(Markdown('<h3><span style=\"color:#cc3300\"> :( Try Again </span><h3>'))"
   ]
  },
  {
   "cell_type": "markdown",
   "id": "73657a5b",
   "metadata": {},
   "source": [
    "1. **`SELECT DISTINCT engine FROM planes`**\n",
    "\n",
    "This query returns a list of distinct elements (i.e. no duplicates) from the `engine` column of the `planes` dataset. "
   ]
  },
  {
   "cell_type": "code",
   "execution_count": 12,
   "id": "b504f143",
   "metadata": {},
   "outputs": [
    {
     "data": {
      "text/markdown": [
       "**Shape**: (6, 1). **Processing Time:** 0.0018843119999996105."
      ],
      "text/plain": [
       "<IPython.core.display.Markdown object>"
      ]
     },
     "metadata": {},
     "output_type": "display_data"
    },
    {
     "data": {
      "text/html": [
       "<div>\n",
       "<style scoped>\n",
       "    .dataframe tbody tr th:only-of-type {\n",
       "        vertical-align: middle;\n",
       "    }\n",
       "\n",
       "    .dataframe tbody tr th {\n",
       "        vertical-align: top;\n",
       "    }\n",
       "\n",
       "    .dataframe thead th {\n",
       "        text-align: right;\n",
       "    }\n",
       "</style>\n",
       "<table border=\"1\" class=\"dataframe\">\n",
       "  <thead>\n",
       "    <tr style=\"text-align: right;\">\n",
       "      <th></th>\n",
       "      <th>engine</th>\n",
       "    </tr>\n",
       "  </thead>\n",
       "  <tbody>\n",
       "    <tr>\n",
       "      <th>0</th>\n",
       "      <td>Turbo-fan</td>\n",
       "    </tr>\n",
       "    <tr>\n",
       "      <th>1</th>\n",
       "      <td>Turbo-jet</td>\n",
       "    </tr>\n",
       "  </tbody>\n",
       "</table>\n",
       "</div>"
      ],
      "text/plain": [
       "      engine\n",
       "0  Turbo-fan\n",
       "1  Turbo-jet"
      ]
     },
     "execution_count": 12,
     "metadata": {},
     "output_type": "execute_result"
    }
   ],
   "source": [
    "# SQL Query \n",
    "start = timeit.default_timer()\n",
    "\n",
    "sql_1 = pd.read_sql_query('''\n",
    "    SELECT DISTINCT engine FROM planes\n",
    "    ''', conn)\n",
    "\n",
    "end = timeit.default_timer()\n",
    "t1 = timer_results(start, end, sql_1)\n",
    "\n",
    "sql_1.head(2)"
   ]
  },
  {
   "cell_type": "code",
   "execution_count": 13,
   "id": "d581bda1",
   "metadata": {},
   "outputs": [
    {
     "data": {
      "text/markdown": [
       "**Shape**: (6, 1). **Processing Time:** 0.0017793849999998557."
      ],
      "text/plain": [
       "<IPython.core.display.Markdown object>"
      ]
     },
     "metadata": {},
     "output_type": "display_data"
    },
    {
     "data": {
      "text/html": [
       "<div>\n",
       "<style scoped>\n",
       "    .dataframe tbody tr th:only-of-type {\n",
       "        vertical-align: middle;\n",
       "    }\n",
       "\n",
       "    .dataframe tbody tr th {\n",
       "        vertical-align: top;\n",
       "    }\n",
       "\n",
       "    .dataframe thead th {\n",
       "        text-align: right;\n",
       "    }\n",
       "</style>\n",
       "<table border=\"1\" class=\"dataframe\">\n",
       "  <thead>\n",
       "    <tr style=\"text-align: right;\">\n",
       "      <th></th>\n",
       "      <th>engine</th>\n",
       "    </tr>\n",
       "  </thead>\n",
       "  <tbody>\n",
       "    <tr>\n",
       "      <th>0</th>\n",
       "      <td>Turbo-fan</td>\n",
       "    </tr>\n",
       "    <tr>\n",
       "      <th>1</th>\n",
       "      <td>Turbo-jet</td>\n",
       "    </tr>\n",
       "  </tbody>\n",
       "</table>\n",
       "</div>"
      ],
      "text/plain": [
       "      engine\n",
       "0  Turbo-fan\n",
       "1  Turbo-jet"
      ]
     },
     "execution_count": 13,
     "metadata": {},
     "output_type": "execute_result"
    }
   ],
   "source": [
    "# Pandas Query\n",
    "start = timeit.default_timer()\n",
    "\n",
    "result = {'engine': Planes.engine.unique()} # Retreive unique engines \n",
    "pd_1 = pd.DataFrame(result)  # Convert to dataframe\n",
    "\n",
    "end = timeit.default_timer()\n",
    "t2 = timer_results(start, end, pd_1)\n",
    "\n",
    "pd_1.head(2)"
   ]
  },
  {
   "cell_type": "code",
   "execution_count": 14,
   "id": "6a694ef3",
   "metadata": {},
   "outputs": [
    {
     "data": {
      "text/markdown": [
       "The **Pandas** Query was a factor of 1.06 times faster than the SQL."
      ],
      "text/plain": [
       "<IPython.core.display.Markdown object>"
      ]
     },
     "metadata": {},
     "output_type": "display_data"
    },
    {
     "data": {
      "text/markdown": [
       "<h3><span style=\"color:#008000\">Pandas SQL & Pure Pandas objects are a match!</span><h3>"
      ],
      "text/plain": [
       "<IPython.core.display.Markdown object>"
      ]
     },
     "metadata": {},
     "output_type": "display_data"
    }
   ],
   "source": [
    "# Comparing the returned objects from each query above. \n",
    "compare(sql_1, pd_1, t1, t2)\n",
    "\n",
    "pd.testing.assert_frame_equal(sql_1, pd_1)"
   ]
  },
  {
   "cell_type": "markdown",
   "id": "bc09e112",
   "metadata": {},
   "source": [
    "----\n",
    "2. **`SELECT DISTINCT type, engine FROM planes`**\n",
    "\n",
    "This query is similar to the one above but combines the distinct values of two columns in this case being `type` and `engine` which does allow for dulicates but only so all distinct values in each column can be represented."
   ]
  },
  {
   "cell_type": "code",
   "execution_count": 15,
   "id": "454f673b",
   "metadata": {},
   "outputs": [
    {
     "data": {
      "text/markdown": [
       "**Shape**: (7, 2). **Processing Time:** 0.001957712000000278."
      ],
      "text/plain": [
       "<IPython.core.display.Markdown object>"
      ]
     },
     "metadata": {},
     "output_type": "display_data"
    },
    {
     "data": {
      "text/html": [
       "<div>\n",
       "<style scoped>\n",
       "    .dataframe tbody tr th:only-of-type {\n",
       "        vertical-align: middle;\n",
       "    }\n",
       "\n",
       "    .dataframe tbody tr th {\n",
       "        vertical-align: top;\n",
       "    }\n",
       "\n",
       "    .dataframe thead th {\n",
       "        text-align: right;\n",
       "    }\n",
       "</style>\n",
       "<table border=\"1\" class=\"dataframe\">\n",
       "  <thead>\n",
       "    <tr style=\"text-align: right;\">\n",
       "      <th></th>\n",
       "      <th>type</th>\n",
       "      <th>engine</th>\n",
       "    </tr>\n",
       "  </thead>\n",
       "  <tbody>\n",
       "    <tr>\n",
       "      <th>0</th>\n",
       "      <td>Fixed wing multi engine</td>\n",
       "      <td>Turbo-fan</td>\n",
       "    </tr>\n",
       "    <tr>\n",
       "      <th>1</th>\n",
       "      <td>Fixed wing multi engine</td>\n",
       "      <td>Turbo-jet</td>\n",
       "    </tr>\n",
       "  </tbody>\n",
       "</table>\n",
       "</div>"
      ],
      "text/plain": [
       "                      type     engine\n",
       "0  Fixed wing multi engine  Turbo-fan\n",
       "1  Fixed wing multi engine  Turbo-jet"
      ]
     },
     "execution_count": 15,
     "metadata": {},
     "output_type": "execute_result"
    }
   ],
   "source": [
    "# SQL Query \n",
    "start = timeit.default_timer()\n",
    "\n",
    "sql_2 = pd.read_sql_query('''\n",
    "    SELECT DISTINCT type, engine FROM planes\n",
    "    ''', conn)\n",
    "\n",
    "end = timeit.default_timer()\n",
    "t1 = timer_results(start, end, sql_2)\n",
    "\n",
    "sql_2.head(2)"
   ]
  },
  {
   "cell_type": "code",
   "execution_count": 16,
   "id": "8ff9d376",
   "metadata": {},
   "outputs": [
    {
     "data": {
      "text/markdown": [
       "**Shape**: (7, 2). **Processing Time:** 0.00818661600000059."
      ],
      "text/plain": [
       "<IPython.core.display.Markdown object>"
      ]
     },
     "metadata": {},
     "output_type": "display_data"
    },
    {
     "data": {
      "text/html": [
       "<div>\n",
       "<style scoped>\n",
       "    .dataframe tbody tr th:only-of-type {\n",
       "        vertical-align: middle;\n",
       "    }\n",
       "\n",
       "    .dataframe tbody tr th {\n",
       "        vertical-align: top;\n",
       "    }\n",
       "\n",
       "    .dataframe thead th {\n",
       "        text-align: right;\n",
       "    }\n",
       "</style>\n",
       "<table border=\"1\" class=\"dataframe\">\n",
       "  <thead>\n",
       "    <tr style=\"text-align: right;\">\n",
       "      <th></th>\n",
       "      <th>type</th>\n",
       "      <th>engine</th>\n",
       "    </tr>\n",
       "  </thead>\n",
       "  <tbody>\n",
       "    <tr>\n",
       "      <th>0</th>\n",
       "      <td>Fixed wing multi engine</td>\n",
       "      <td>Turbo-fan</td>\n",
       "    </tr>\n",
       "    <tr>\n",
       "      <th>1</th>\n",
       "      <td>Fixed wing multi engine</td>\n",
       "      <td>Turbo-jet</td>\n",
       "    </tr>\n",
       "  </tbody>\n",
       "</table>\n",
       "</div>"
      ],
      "text/plain": [
       "                      type     engine\n",
       "0  Fixed wing multi engine  Turbo-fan\n",
       "1  Fixed wing multi engine  Turbo-jet"
      ]
     },
     "execution_count": 16,
     "metadata": {},
     "output_type": "execute_result"
    }
   ],
   "source": [
    "# Pandas Query \n",
    "start = timeit.default_timer()\n",
    "\n",
    "pd_2 = Planes.groupby(['type', 'engine'], as_index=False, sort=False)['speed'].size() \n",
    "pd_2 = pd_2.drop('size', axis=1) \n",
    "\n",
    "end = timeit.default_timer()\n",
    "t2 = timer_results(start, end, pd_2)\n",
    "\n",
    "pd_2.head(2)"
   ]
  },
  {
   "cell_type": "code",
   "execution_count": 17,
   "id": "b4c3dc36",
   "metadata": {},
   "outputs": [
    {
     "data": {
      "text/markdown": [
       "The **SQL** Query was a factor of 4.18 times faster than the Pandas."
      ],
      "text/plain": [
       "<IPython.core.display.Markdown object>"
      ]
     },
     "metadata": {},
     "output_type": "display_data"
    },
    {
     "data": {
      "text/markdown": [
       "<h3><span style=\"color:#008000\">Pandas SQL & Pure Pandas objects are a match!</span><h3>"
      ],
      "text/plain": [
       "<IPython.core.display.Markdown object>"
      ]
     },
     "metadata": {},
     "output_type": "display_data"
    }
   ],
   "source": [
    "# Comparing the returned objects from each query above. \n",
    "compare(sql_2, pd_2, t1, t2)\n",
    "\n",
    "pd.testing.assert_frame_equal(sql_2, pd_2)"
   ]
  },
  {
   "cell_type": "markdown",
   "id": "9dd97990",
   "metadata": {},
   "source": [
    "----\n",
    "3. **`SELECT COUNT(*), engine FROM planes \n",
    "GROUP BY engine`**\n",
    "\n",
    "The query is requesting a count of the number of different engines from the planes dataset while displaying the counts by the engine type. "
   ]
  },
  {
   "cell_type": "code",
   "execution_count": 18,
   "id": "490f5b69",
   "metadata": {},
   "outputs": [
    {
     "data": {
      "text/markdown": [
       "**Shape**: (6, 2). **Processing Time:** 0.002982926999999691."
      ],
      "text/plain": [
       "<IPython.core.display.Markdown object>"
      ]
     },
     "metadata": {},
     "output_type": "display_data"
    },
    {
     "data": {
      "text/html": [
       "<div>\n",
       "<style scoped>\n",
       "    .dataframe tbody tr th:only-of-type {\n",
       "        vertical-align: middle;\n",
       "    }\n",
       "\n",
       "    .dataframe tbody tr th {\n",
       "        vertical-align: top;\n",
       "    }\n",
       "\n",
       "    .dataframe thead th {\n",
       "        text-align: right;\n",
       "    }\n",
       "</style>\n",
       "<table border=\"1\" class=\"dataframe\">\n",
       "  <thead>\n",
       "    <tr style=\"text-align: right;\">\n",
       "      <th></th>\n",
       "      <th>COUNT(*)</th>\n",
       "      <th>engine</th>\n",
       "    </tr>\n",
       "  </thead>\n",
       "  <tbody>\n",
       "    <tr>\n",
       "      <th>0</th>\n",
       "      <td>2</td>\n",
       "      <td>4 Cycle</td>\n",
       "    </tr>\n",
       "    <tr>\n",
       "      <th>1</th>\n",
       "      <td>28</td>\n",
       "      <td>Reciprocating</td>\n",
       "    </tr>\n",
       "  </tbody>\n",
       "</table>\n",
       "</div>"
      ],
      "text/plain": [
       "   COUNT(*)         engine\n",
       "0         2        4 Cycle\n",
       "1        28  Reciprocating"
      ]
     },
     "execution_count": 18,
     "metadata": {},
     "output_type": "execute_result"
    }
   ],
   "source": [
    "start = timeit.default_timer()\n",
    "\n",
    "sql_3 = pd.read_sql_query('''\n",
    "    SELECT COUNT(*), engine FROM planes GROUP BY engine\n",
    "    ''', conn)\n",
    "\n",
    "end = timeit.default_timer()\n",
    "t1 = timer_results(start, end, sql_3)\n",
    "\n",
    "sql_3.head(2)"
   ]
  },
  {
   "cell_type": "code",
   "execution_count": 19,
   "id": "3c343496",
   "metadata": {},
   "outputs": [
    {
     "data": {
      "text/markdown": [
       "**Shape**: (6, 2). **Processing Time:** 0.006466581000000637."
      ],
      "text/plain": [
       "<IPython.core.display.Markdown object>"
      ]
     },
     "metadata": {},
     "output_type": "display_data"
    },
    {
     "data": {
      "text/html": [
       "<div>\n",
       "<style scoped>\n",
       "    .dataframe tbody tr th:only-of-type {\n",
       "        vertical-align: middle;\n",
       "    }\n",
       "\n",
       "    .dataframe tbody tr th {\n",
       "        vertical-align: top;\n",
       "    }\n",
       "\n",
       "    .dataframe thead th {\n",
       "        text-align: right;\n",
       "    }\n",
       "</style>\n",
       "<table border=\"1\" class=\"dataframe\">\n",
       "  <thead>\n",
       "    <tr style=\"text-align: right;\">\n",
       "      <th></th>\n",
       "      <th>COUNT(*)</th>\n",
       "      <th>engine</th>\n",
       "    </tr>\n",
       "  </thead>\n",
       "  <tbody>\n",
       "    <tr>\n",
       "      <th>0</th>\n",
       "      <td>2</td>\n",
       "      <td>4 Cycle</td>\n",
       "    </tr>\n",
       "    <tr>\n",
       "      <th>1</th>\n",
       "      <td>28</td>\n",
       "      <td>Reciprocating</td>\n",
       "    </tr>\n",
       "    <tr>\n",
       "      <th>2</th>\n",
       "      <td>2750</td>\n",
       "      <td>Turbo-fan</td>\n",
       "    </tr>\n",
       "    <tr>\n",
       "      <th>3</th>\n",
       "      <td>535</td>\n",
       "      <td>Turbo-jet</td>\n",
       "    </tr>\n",
       "    <tr>\n",
       "      <th>4</th>\n",
       "      <td>2</td>\n",
       "      <td>Turbo-prop</td>\n",
       "    </tr>\n",
       "  </tbody>\n",
       "</table>\n",
       "</div>"
      ],
      "text/plain": [
       "   COUNT(*)         engine\n",
       "0         2        4 Cycle\n",
       "1        28  Reciprocating\n",
       "2      2750      Turbo-fan\n",
       "3       535      Turbo-jet\n",
       "4         2     Turbo-prop"
      ]
     },
     "execution_count": 19,
     "metadata": {},
     "output_type": "execute_result"
    }
   ],
   "source": [
    "start = timeit.default_timer()\n",
    "\n",
    "pd_3 = Planes.groupby(['engine'])['engine'].count() \n",
    "pd_3 = pd.DataFrame(pd_3) \n",
    "pd_3.rename(columns={'engine': 'COUNT(*)'}, inplace=True) \n",
    "pd_3 = pd_3.reset_index()  \n",
    "pd_3 = pd_3.iloc[:,[1,0]] \n",
    "\n",
    "end = timeit.default_timer()\n",
    "t2 = timer_results(start, end, pd_3)\n",
    "\n",
    "pd_3.head()"
   ]
  },
  {
   "cell_type": "code",
   "execution_count": 20,
   "id": "99279da8",
   "metadata": {},
   "outputs": [
    {
     "data": {
      "text/markdown": [
       "The **SQL** Query was a factor of 2.17 times faster than the Pandas."
      ],
      "text/plain": [
       "<IPython.core.display.Markdown object>"
      ]
     },
     "metadata": {},
     "output_type": "display_data"
    },
    {
     "data": {
      "text/markdown": [
       "<h3><span style=\"color:#008000\">Pandas SQL & Pure Pandas objects are a match!</span><h3>"
      ],
      "text/plain": [
       "<IPython.core.display.Markdown object>"
      ]
     },
     "metadata": {},
     "output_type": "display_data"
    }
   ],
   "source": [
    "# Comparing the returned objects from each query above. \n",
    "obj_1 = sql_3\n",
    "obj_2 = pd_3\n",
    "\n",
    "compare(obj_1, obj_2, t1, t2)\n",
    "pd.testing.assert_frame_equal(obj_1, obj_2)"
   ]
  },
  {
   "cell_type": "markdown",
   "id": "140a2e26",
   "metadata": {},
   "source": [
    "----\n",
    "4. **`SELECT COUNT(*), engine, type FROM planes \n",
    "GROUP BY engine, type`**\n",
    "\n",
    "This query asks for a count of all engine and type combinations grouped by engine and type. Essentially a count for each combination showing the combinations. "
   ]
  },
  {
   "cell_type": "code",
   "execution_count": 21,
   "id": "db053d08",
   "metadata": {},
   "outputs": [
    {
     "data": {
      "text/markdown": [
       "**Shape**: (7, 3). **Processing Time:** 0.0038785990000000936."
      ],
      "text/plain": [
       "<IPython.core.display.Markdown object>"
      ]
     },
     "metadata": {},
     "output_type": "display_data"
    },
    {
     "data": {
      "text/html": [
       "<div>\n",
       "<style scoped>\n",
       "    .dataframe tbody tr th:only-of-type {\n",
       "        vertical-align: middle;\n",
       "    }\n",
       "\n",
       "    .dataframe tbody tr th {\n",
       "        vertical-align: top;\n",
       "    }\n",
       "\n",
       "    .dataframe thead th {\n",
       "        text-align: right;\n",
       "    }\n",
       "</style>\n",
       "<table border=\"1\" class=\"dataframe\">\n",
       "  <thead>\n",
       "    <tr style=\"text-align: right;\">\n",
       "      <th></th>\n",
       "      <th>COUNT(*)</th>\n",
       "      <th>engine</th>\n",
       "      <th>type</th>\n",
       "    </tr>\n",
       "  </thead>\n",
       "  <tbody>\n",
       "    <tr>\n",
       "      <th>0</th>\n",
       "      <td>2</td>\n",
       "      <td>4 Cycle</td>\n",
       "      <td>Fixed wing single engine</td>\n",
       "    </tr>\n",
       "    <tr>\n",
       "      <th>1</th>\n",
       "      <td>5</td>\n",
       "      <td>Reciprocating</td>\n",
       "      <td>Fixed wing multi engine</td>\n",
       "    </tr>\n",
       "  </tbody>\n",
       "</table>\n",
       "</div>"
      ],
      "text/plain": [
       "   COUNT(*)         engine                      type\n",
       "0         2        4 Cycle  Fixed wing single engine\n",
       "1         5  Reciprocating   Fixed wing multi engine"
      ]
     },
     "execution_count": 21,
     "metadata": {},
     "output_type": "execute_result"
    }
   ],
   "source": [
    "start = timeit.default_timer()\n",
    "\n",
    "sql_4 = pd.read_sql_query('''\n",
    "    SELECT COUNT(*), engine, type FROM planes GROUP BY engine, type\n",
    "    ''', conn)\n",
    "\n",
    "end = timeit.default_timer()\n",
    "t1 = timer_results(start, end, sql_4)\n",
    "\n",
    "sql_4.head(2)"
   ]
  },
  {
   "cell_type": "code",
   "execution_count": 22,
   "id": "0d6e9640",
   "metadata": {},
   "outputs": [
    {
     "data": {
      "text/markdown": [
       "**Shape**: (7, 3). **Processing Time:** 0.010247674000000373."
      ],
      "text/plain": [
       "<IPython.core.display.Markdown object>"
      ]
     },
     "metadata": {},
     "output_type": "display_data"
    },
    {
     "data": {
      "text/html": [
       "<div>\n",
       "<style scoped>\n",
       "    .dataframe tbody tr th:only-of-type {\n",
       "        vertical-align: middle;\n",
       "    }\n",
       "\n",
       "    .dataframe tbody tr th {\n",
       "        vertical-align: top;\n",
       "    }\n",
       "\n",
       "    .dataframe thead th {\n",
       "        text-align: right;\n",
       "    }\n",
       "</style>\n",
       "<table border=\"1\" class=\"dataframe\">\n",
       "  <thead>\n",
       "    <tr style=\"text-align: right;\">\n",
       "      <th></th>\n",
       "      <th>COUNT(*)</th>\n",
       "      <th>engine</th>\n",
       "      <th>type</th>\n",
       "    </tr>\n",
       "  </thead>\n",
       "  <tbody>\n",
       "    <tr>\n",
       "      <th>0</th>\n",
       "      <td>2</td>\n",
       "      <td>4 Cycle</td>\n",
       "      <td>Fixed wing single engine</td>\n",
       "    </tr>\n",
       "    <tr>\n",
       "      <th>1</th>\n",
       "      <td>5</td>\n",
       "      <td>Reciprocating</td>\n",
       "      <td>Fixed wing multi engine</td>\n",
       "    </tr>\n",
       "    <tr>\n",
       "      <th>2</th>\n",
       "      <td>23</td>\n",
       "      <td>Reciprocating</td>\n",
       "      <td>Fixed wing single engine</td>\n",
       "    </tr>\n",
       "    <tr>\n",
       "      <th>3</th>\n",
       "      <td>2750</td>\n",
       "      <td>Turbo-fan</td>\n",
       "      <td>Fixed wing multi engine</td>\n",
       "    </tr>\n",
       "    <tr>\n",
       "      <th>4</th>\n",
       "      <td>535</td>\n",
       "      <td>Turbo-jet</td>\n",
       "      <td>Fixed wing multi engine</td>\n",
       "    </tr>\n",
       "  </tbody>\n",
       "</table>\n",
       "</div>"
      ],
      "text/plain": [
       "   COUNT(*)         engine                      type\n",
       "0         2        4 Cycle  Fixed wing single engine\n",
       "1         5  Reciprocating   Fixed wing multi engine\n",
       "2        23  Reciprocating  Fixed wing single engine\n",
       "3      2750      Turbo-fan   Fixed wing multi engine\n",
       "4       535      Turbo-jet   Fixed wing multi engine"
      ]
     },
     "execution_count": 22,
     "metadata": {},
     "output_type": "execute_result"
    }
   ],
   "source": [
    "start = timeit.default_timer()\n",
    "\n",
    "pd_4 = Planes.groupby(['engine', 'type'], as_index=False)['manufacturer'].count()\n",
    "pd_4 = pd_4.iloc[:, [2, 0, 1]]\n",
    "pd_4.rename(columns={'manufacturer': 'COUNT(*)'}, inplace=True)\n",
    "\n",
    "end = timeit.default_timer()\n",
    "t2 = timer_results(start, end, pd_4)\n",
    "\n",
    "pd_4.head()"
   ]
  },
  {
   "cell_type": "code",
   "execution_count": 23,
   "id": "25e68159",
   "metadata": {},
   "outputs": [
    {
     "data": {
      "text/markdown": [
       "The **SQL** Query was a factor of 2.64 times faster than the Pandas."
      ],
      "text/plain": [
       "<IPython.core.display.Markdown object>"
      ]
     },
     "metadata": {},
     "output_type": "display_data"
    },
    {
     "data": {
      "text/markdown": [
       "<h3><span style=\"color:#008000\">Pandas SQL & Pure Pandas objects are a match!</span><h3>"
      ],
      "text/plain": [
       "<IPython.core.display.Markdown object>"
      ]
     },
     "metadata": {},
     "output_type": "display_data"
    }
   ],
   "source": [
    "# Comparing the returned objects from each query above. \n",
    "obj_1 = sql_4\n",
    "obj_2 = pd_4\n",
    "\n",
    "compare(obj_1, obj_2, t1, t2)\n",
    "pd.testing.assert_frame_equal(obj_1, obj_2)"
   ]
  },
  {
   "cell_type": "markdown",
   "id": "a8f52676",
   "metadata": {},
   "source": [
    "----\n",
    "5. **`SELECT MIN(year), AVG(year), MAX(year), engine, manufacturer FROM planes \n",
    "GROUP BY engine, manufacturer`**\n",
    "      \n",
    "In this query we are grouping all unique combinations of `engine` and `manufacturer` while taking the earliest, latest, and average `year` of manufacture. "
   ]
  },
  {
   "cell_type": "code",
   "execution_count": 24,
   "id": "53261ae6",
   "metadata": {},
   "outputs": [
    {
     "data": {
      "text/markdown": [
       "**Shape**: (43, 5). **Processing Time:** 0.004651846999999876."
      ],
      "text/plain": [
       "<IPython.core.display.Markdown object>"
      ]
     },
     "metadata": {},
     "output_type": "display_data"
    },
    {
     "data": {
      "text/html": [
       "<div>\n",
       "<style scoped>\n",
       "    .dataframe tbody tr th:only-of-type {\n",
       "        vertical-align: middle;\n",
       "    }\n",
       "\n",
       "    .dataframe tbody tr th {\n",
       "        vertical-align: top;\n",
       "    }\n",
       "\n",
       "    .dataframe thead th {\n",
       "        text-align: right;\n",
       "    }\n",
       "</style>\n",
       "<table border=\"1\" class=\"dataframe\">\n",
       "  <thead>\n",
       "    <tr style=\"text-align: right;\">\n",
       "      <th></th>\n",
       "      <th>MIN(year)</th>\n",
       "      <th>AVG(year)</th>\n",
       "      <th>MAX(year)</th>\n",
       "      <th>engine</th>\n",
       "      <th>manufacturer</th>\n",
       "    </tr>\n",
       "  </thead>\n",
       "  <tbody>\n",
       "    <tr>\n",
       "      <th>0</th>\n",
       "      <td>1975.0</td>\n",
       "      <td>1975.0</td>\n",
       "      <td>1975.0</td>\n",
       "      <td>4 Cycle</td>\n",
       "      <td>CESSNA</td>\n",
       "    </tr>\n",
       "    <tr>\n",
       "      <th>1</th>\n",
       "      <td>NaN</td>\n",
       "      <td>NaN</td>\n",
       "      <td>NaN</td>\n",
       "      <td>4 Cycle</td>\n",
       "      <td>JOHN G HESS</td>\n",
       "    </tr>\n",
       "  </tbody>\n",
       "</table>\n",
       "</div>"
      ],
      "text/plain": [
       "   MIN(year)  AVG(year)  MAX(year)   engine manufacturer\n",
       "0     1975.0     1975.0     1975.0  4 Cycle       CESSNA\n",
       "1        NaN        NaN        NaN  4 Cycle  JOHN G HESS"
      ]
     },
     "execution_count": 24,
     "metadata": {},
     "output_type": "execute_result"
    }
   ],
   "source": [
    "start = timeit.default_timer()\n",
    "\n",
    "sql_5 = pd.read_sql_query('''\n",
    "    SELECT MIN(year), AVG(year), MAX(year), engine, manufacturer FROM planes \n",
    "    GROUP BY engine, manufacturer''', conn)\n",
    "\n",
    "end = timeit.default_timer()\n",
    "t1 = timer_results(start, end, sql_5)\n",
    "\n",
    "sql_5.head(2)"
   ]
  },
  {
   "cell_type": "code",
   "execution_count": 25,
   "id": "552b660a",
   "metadata": {},
   "outputs": [
    {
     "data": {
      "text/markdown": [
       "**Shape**: (43, 5). **Processing Time:** 0.022955376000000527."
      ],
      "text/plain": [
       "<IPython.core.display.Markdown object>"
      ]
     },
     "metadata": {},
     "output_type": "display_data"
    },
    {
     "data": {
      "text/html": [
       "<div>\n",
       "<style scoped>\n",
       "    .dataframe tbody tr th:only-of-type {\n",
       "        vertical-align: middle;\n",
       "    }\n",
       "\n",
       "    .dataframe tbody tr th {\n",
       "        vertical-align: top;\n",
       "    }\n",
       "\n",
       "    .dataframe thead th {\n",
       "        text-align: right;\n",
       "    }\n",
       "</style>\n",
       "<table border=\"1\" class=\"dataframe\">\n",
       "  <thead>\n",
       "    <tr style=\"text-align: right;\">\n",
       "      <th></th>\n",
       "      <th>MIN(year)</th>\n",
       "      <th>AVG(year)</th>\n",
       "      <th>MAX(year)</th>\n",
       "      <th>engine</th>\n",
       "      <th>manufacturer</th>\n",
       "    </tr>\n",
       "  </thead>\n",
       "  <tbody>\n",
       "    <tr>\n",
       "      <th>0</th>\n",
       "      <td>1975.0</td>\n",
       "      <td>1975.0</td>\n",
       "      <td>1975.0</td>\n",
       "      <td>4 Cycle</td>\n",
       "      <td>CESSNA</td>\n",
       "    </tr>\n",
       "    <tr>\n",
       "      <th>1</th>\n",
       "      <td>NaN</td>\n",
       "      <td>NaN</td>\n",
       "      <td>NaN</td>\n",
       "      <td>4 Cycle</td>\n",
       "      <td>JOHN G HESS</td>\n",
       "    </tr>\n",
       "    <tr>\n",
       "      <th>2</th>\n",
       "      <td>NaN</td>\n",
       "      <td>NaN</td>\n",
       "      <td>NaN</td>\n",
       "      <td>Reciprocating</td>\n",
       "      <td>AMERICAN AIRCRAFT INC</td>\n",
       "    </tr>\n",
       "    <tr>\n",
       "      <th>3</th>\n",
       "      <td>2007.0</td>\n",
       "      <td>2007.0</td>\n",
       "      <td>2007.0</td>\n",
       "      <td>Reciprocating</td>\n",
       "      <td>AVIAT AIRCRAFT INC</td>\n",
       "    </tr>\n",
       "    <tr>\n",
       "      <th>4</th>\n",
       "      <td>NaN</td>\n",
       "      <td>NaN</td>\n",
       "      <td>NaN</td>\n",
       "      <td>Reciprocating</td>\n",
       "      <td>BARKER JACK L</td>\n",
       "    </tr>\n",
       "  </tbody>\n",
       "</table>\n",
       "</div>"
      ],
      "text/plain": [
       "   MIN(year)  AVG(year)  MAX(year)         engine           manufacturer\n",
       "0     1975.0     1975.0     1975.0        4 Cycle                 CESSNA\n",
       "1        NaN        NaN        NaN        4 Cycle            JOHN G HESS\n",
       "2        NaN        NaN        NaN  Reciprocating  AMERICAN AIRCRAFT INC\n",
       "3     2007.0     2007.0     2007.0  Reciprocating     AVIAT AIRCRAFT INC\n",
       "4        NaN        NaN        NaN  Reciprocating          BARKER JACK L"
      ]
     },
     "execution_count": 25,
     "metadata": {},
     "output_type": "execute_result"
    }
   ],
   "source": [
    "start = timeit.default_timer()\n",
    "\n",
    "pd_5 = Planes.groupby(['engine', 'manufacturer'], as_index=False)\n",
    "y_min = pd_5['year'].min()\n",
    "y_min.rename(columns={'year' : 'MIN(year)'}, inplace=True)\n",
    "y_max = pd_5['year'].max()\n",
    "y_max.rename(columns={'year' : 'MAX(year)'}, inplace=True)\n",
    "y_avg = pd_5['year'].mean()\n",
    "y_avg.rename(columns={'year' : 'AVG(year)'}, inplace=True)\n",
    "\n",
    "pd_5 = pd.merge(y_min, y_avg, how='left', on=['engine', 'manufacturer'])\n",
    "pd_5 = pd.merge(pd_5, y_max, how='left', on=['engine', 'manufacturer'])\n",
    "pd_5 = pd_5.iloc[:, [2, 3, 4, 0, 1]]\n",
    "\n",
    "end = timeit.default_timer()\n",
    "t2 = timer_results(start, end, pd_5)\n",
    "\n",
    "pd_5.head()"
   ]
  },
  {
   "cell_type": "code",
   "execution_count": 26,
   "id": "62facd6b",
   "metadata": {},
   "outputs": [
    {
     "data": {
      "text/markdown": [
       "The **SQL** Query was a factor of 4.93 times faster than the Pandas."
      ],
      "text/plain": [
       "<IPython.core.display.Markdown object>"
      ]
     },
     "metadata": {},
     "output_type": "display_data"
    },
    {
     "data": {
      "text/markdown": [
       "<h3><span style=\"color:#008000\">Pandas SQL & Pure Pandas objects are a match!</span><h3>"
      ],
      "text/plain": [
       "<IPython.core.display.Markdown object>"
      ]
     },
     "metadata": {},
     "output_type": "display_data"
    }
   ],
   "source": [
    "# Comparing the returned objects from each query above. \n",
    "obj_1 = sql_5\n",
    "obj_2 = pd_5\n",
    "\n",
    "compare(obj_1, obj_2, t1, t2)\n",
    "pd.testing.assert_frame_equal(obj_1, obj_2)"
   ]
  },
  {
   "cell_type": "markdown",
   "id": "5dcbf4f0",
   "metadata": {},
   "source": [
    "----\n",
    "6. **`SELECT * FROM planes WHERE speed IS NOT NULL`**\n",
    "\n",
    "Here we are simply selecting everything from `Planes` that has a metric for `speed`."
   ]
  },
  {
   "cell_type": "code",
   "execution_count": 27,
   "id": "d9be8628",
   "metadata": {},
   "outputs": [
    {
     "data": {
      "text/markdown": [
       "**Shape**: (23, 9). **Processing Time:** 0.0029626080000006993."
      ],
      "text/plain": [
       "<IPython.core.display.Markdown object>"
      ]
     },
     "metadata": {},
     "output_type": "display_data"
    },
    {
     "data": {
      "text/html": [
       "<div>\n",
       "<style scoped>\n",
       "    .dataframe tbody tr th:only-of-type {\n",
       "        vertical-align: middle;\n",
       "    }\n",
       "\n",
       "    .dataframe tbody tr th {\n",
       "        vertical-align: top;\n",
       "    }\n",
       "\n",
       "    .dataframe thead th {\n",
       "        text-align: right;\n",
       "    }\n",
       "</style>\n",
       "<table border=\"1\" class=\"dataframe\">\n",
       "  <thead>\n",
       "    <tr style=\"text-align: right;\">\n",
       "      <th></th>\n",
       "      <th>tailnum</th>\n",
       "      <th>year</th>\n",
       "      <th>type</th>\n",
       "      <th>manufacturer</th>\n",
       "      <th>model</th>\n",
       "      <th>engines</th>\n",
       "      <th>seats</th>\n",
       "      <th>speed</th>\n",
       "      <th>engine</th>\n",
       "    </tr>\n",
       "  </thead>\n",
       "  <tbody>\n",
       "    <tr>\n",
       "      <th>0</th>\n",
       "      <td>N201AA</td>\n",
       "      <td>1959.0</td>\n",
       "      <td>Fixed wing single engine</td>\n",
       "      <td>CESSNA</td>\n",
       "      <td>150</td>\n",
       "      <td>1</td>\n",
       "      <td>2</td>\n",
       "      <td>90.0</td>\n",
       "      <td>Reciprocating</td>\n",
       "    </tr>\n",
       "    <tr>\n",
       "      <th>1</th>\n",
       "      <td>N202AA</td>\n",
       "      <td>1980.0</td>\n",
       "      <td>Fixed wing multi engine</td>\n",
       "      <td>CESSNA</td>\n",
       "      <td>421C</td>\n",
       "      <td>2</td>\n",
       "      <td>8</td>\n",
       "      <td>90.0</td>\n",
       "      <td>Reciprocating</td>\n",
       "    </tr>\n",
       "  </tbody>\n",
       "</table>\n",
       "</div>"
      ],
      "text/plain": [
       "  tailnum    year                      type manufacturer model  engines  \\\n",
       "0  N201AA  1959.0  Fixed wing single engine       CESSNA   150        1   \n",
       "1  N202AA  1980.0   Fixed wing multi engine       CESSNA  421C        2   \n",
       "\n",
       "   seats  speed         engine  \n",
       "0      2   90.0  Reciprocating  \n",
       "1      8   90.0  Reciprocating  "
      ]
     },
     "execution_count": 27,
     "metadata": {},
     "output_type": "execute_result"
    }
   ],
   "source": [
    "start = timeit.default_timer()\n",
    "\n",
    "sql_6 = pd.read_sql_query('''\n",
    "    SELECT * FROM planes WHERE speed IS NOT NULL\n",
    "    ''', conn)\n",
    "\n",
    "end = timeit.default_timer()\n",
    "t1 = timer_results(start, end, sql_6)\n",
    "\n",
    "sql_6.head(2)"
   ]
  },
  {
   "cell_type": "code",
   "execution_count": 28,
   "id": "6afbc354",
   "metadata": {},
   "outputs": [
    {
     "data": {
      "text/markdown": [
       "**Shape**: (23, 9). **Processing Time:** 0.001646970999999553."
      ],
      "text/plain": [
       "<IPython.core.display.Markdown object>"
      ]
     },
     "metadata": {},
     "output_type": "display_data"
    },
    {
     "data": {
      "text/html": [
       "<div>\n",
       "<style scoped>\n",
       "    .dataframe tbody tr th:only-of-type {\n",
       "        vertical-align: middle;\n",
       "    }\n",
       "\n",
       "    .dataframe tbody tr th {\n",
       "        vertical-align: top;\n",
       "    }\n",
       "\n",
       "    .dataframe thead th {\n",
       "        text-align: right;\n",
       "    }\n",
       "</style>\n",
       "<table border=\"1\" class=\"dataframe\">\n",
       "  <thead>\n",
       "    <tr style=\"text-align: right;\">\n",
       "      <th></th>\n",
       "      <th>tailnum</th>\n",
       "      <th>year</th>\n",
       "      <th>type</th>\n",
       "      <th>manufacturer</th>\n",
       "      <th>model</th>\n",
       "      <th>engines</th>\n",
       "      <th>seats</th>\n",
       "      <th>speed</th>\n",
       "      <th>engine</th>\n",
       "    </tr>\n",
       "  </thead>\n",
       "  <tbody>\n",
       "    <tr>\n",
       "      <th>0</th>\n",
       "      <td>N201AA</td>\n",
       "      <td>1959.0</td>\n",
       "      <td>Fixed wing single engine</td>\n",
       "      <td>CESSNA</td>\n",
       "      <td>150</td>\n",
       "      <td>1</td>\n",
       "      <td>2</td>\n",
       "      <td>90.0</td>\n",
       "      <td>Reciprocating</td>\n",
       "    </tr>\n",
       "    <tr>\n",
       "      <th>1</th>\n",
       "      <td>N202AA</td>\n",
       "      <td>1980.0</td>\n",
       "      <td>Fixed wing multi engine</td>\n",
       "      <td>CESSNA</td>\n",
       "      <td>421C</td>\n",
       "      <td>2</td>\n",
       "      <td>8</td>\n",
       "      <td>90.0</td>\n",
       "      <td>Reciprocating</td>\n",
       "    </tr>\n",
       "    <tr>\n",
       "      <th>2</th>\n",
       "      <td>N350AA</td>\n",
       "      <td>1980.0</td>\n",
       "      <td>Fixed wing multi engine</td>\n",
       "      <td>PIPER</td>\n",
       "      <td>PA-31-350</td>\n",
       "      <td>2</td>\n",
       "      <td>8</td>\n",
       "      <td>162.0</td>\n",
       "      <td>Reciprocating</td>\n",
       "    </tr>\n",
       "    <tr>\n",
       "      <th>3</th>\n",
       "      <td>N364AA</td>\n",
       "      <td>1973.0</td>\n",
       "      <td>Fixed wing multi engine</td>\n",
       "      <td>CESSNA</td>\n",
       "      <td>310Q</td>\n",
       "      <td>2</td>\n",
       "      <td>6</td>\n",
       "      <td>167.0</td>\n",
       "      <td>Reciprocating</td>\n",
       "    </tr>\n",
       "    <tr>\n",
       "      <th>4</th>\n",
       "      <td>N378AA</td>\n",
       "      <td>1963.0</td>\n",
       "      <td>Fixed wing single engine</td>\n",
       "      <td>CESSNA</td>\n",
       "      <td>172E</td>\n",
       "      <td>1</td>\n",
       "      <td>4</td>\n",
       "      <td>105.0</td>\n",
       "      <td>Reciprocating</td>\n",
       "    </tr>\n",
       "  </tbody>\n",
       "</table>\n",
       "</div>"
      ],
      "text/plain": [
       "  tailnum    year                      type manufacturer      model  engines  \\\n",
       "0  N201AA  1959.0  Fixed wing single engine       CESSNA        150        1   \n",
       "1  N202AA  1980.0   Fixed wing multi engine       CESSNA       421C        2   \n",
       "2  N350AA  1980.0   Fixed wing multi engine        PIPER  PA-31-350        2   \n",
       "3  N364AA  1973.0   Fixed wing multi engine       CESSNA       310Q        2   \n",
       "4  N378AA  1963.0  Fixed wing single engine       CESSNA       172E        1   \n",
       "\n",
       "   seats  speed         engine  \n",
       "0      2   90.0  Reciprocating  \n",
       "1      8   90.0  Reciprocating  \n",
       "2      8  162.0  Reciprocating  \n",
       "3      6  167.0  Reciprocating  \n",
       "4      4  105.0  Reciprocating  "
      ]
     },
     "execution_count": 28,
     "metadata": {},
     "output_type": "execute_result"
    }
   ],
   "source": [
    "start = timeit.default_timer()\n",
    "\n",
    "pd_6 = Planes['speed'].dropna()\n",
    "pd_6 = Planes.iloc[pd_6.index, :].reset_index(drop=True)\n",
    "\n",
    "end = timeit.default_timer()\n",
    "t2 = timer_results(start, end, pd_6)\n",
    "\n",
    "pd_6.head()"
   ]
  },
  {
   "cell_type": "code",
   "execution_count": 29,
   "id": "e394d5f5",
   "metadata": {},
   "outputs": [
    {
     "data": {
      "text/markdown": [
       "The **Pandas** Query was a factor of 1.80 times faster than the SQL."
      ],
      "text/plain": [
       "<IPython.core.display.Markdown object>"
      ]
     },
     "metadata": {},
     "output_type": "display_data"
    },
    {
     "data": {
      "text/markdown": [
       "<h3><span style=\"color:#008000\">Pandas SQL & Pure Pandas objects are a match!</span><h3>"
      ],
      "text/plain": [
       "<IPython.core.display.Markdown object>"
      ]
     },
     "metadata": {},
     "output_type": "display_data"
    }
   ],
   "source": [
    "# Comparing the returned objects from each query above. \n",
    "obj_1 = sql_6\n",
    "obj_2 = pd_6\n",
    "\n",
    "compare(obj_1, obj_2, t1, t2)\n",
    "pd.testing.assert_frame_equal(obj_1, obj_2)"
   ]
  },
  {
   "cell_type": "markdown",
   "id": "edf3efbe",
   "metadata": {},
   "source": [
    "----\n",
    "7. **`SELECT tailnum FROM planes\n",
    "WHERE seats BETWEEN 150 AND 190 AND year >= 2012`**\n",
    "\n",
    "This query requests all `tailnum` from planes that have between 150 and 190 seats and that were manufactured in or after 2012."
   ]
  },
  {
   "cell_type": "code",
   "execution_count": 30,
   "id": "63feedb9",
   "metadata": {},
   "outputs": [
    {
     "data": {
      "text/markdown": [
       "**Shape**: (7, 1). **Processing Time:** 0.0028277040000004305."
      ],
      "text/plain": [
       "<IPython.core.display.Markdown object>"
      ]
     },
     "metadata": {},
     "output_type": "display_data"
    },
    {
     "data": {
      "text/html": [
       "<div>\n",
       "<style scoped>\n",
       "    .dataframe tbody tr th:only-of-type {\n",
       "        vertical-align: middle;\n",
       "    }\n",
       "\n",
       "    .dataframe tbody tr th {\n",
       "        vertical-align: top;\n",
       "    }\n",
       "\n",
       "    .dataframe thead th {\n",
       "        text-align: right;\n",
       "    }\n",
       "</style>\n",
       "<table border=\"1\" class=\"dataframe\">\n",
       "  <thead>\n",
       "    <tr style=\"text-align: right;\">\n",
       "      <th></th>\n",
       "      <th>tailnum</th>\n",
       "    </tr>\n",
       "  </thead>\n",
       "  <tbody>\n",
       "    <tr>\n",
       "      <th>0</th>\n",
       "      <td>N361VA</td>\n",
       "    </tr>\n",
       "    <tr>\n",
       "      <th>1</th>\n",
       "      <td>N849VA</td>\n",
       "    </tr>\n",
       "  </tbody>\n",
       "</table>\n",
       "</div>"
      ],
      "text/plain": [
       "  tailnum\n",
       "0  N361VA\n",
       "1  N849VA"
      ]
     },
     "execution_count": 30,
     "metadata": {},
     "output_type": "execute_result"
    }
   ],
   "source": [
    "start = timeit.default_timer()\n",
    "\n",
    "sql_7 = pd.read_sql_query('''\n",
    "    SELECT tailnum FROM planes\n",
    "    WHERE seats BETWEEN 150 AND 190 AND year >= 2012\n",
    "    ''', conn)\n",
    "\n",
    "end = timeit.default_timer()\n",
    "t1 = timer_results(start, end, sql_7)\n",
    "\n",
    "sql_7.head(2)"
   ]
  },
  {
   "cell_type": "code",
   "execution_count": 31,
   "id": "dbdb2201",
   "metadata": {},
   "outputs": [
    {
     "data": {
      "text/markdown": [
       "**Shape**: (7, 1). **Processing Time:** 0.005386721999999899."
      ],
      "text/plain": [
       "<IPython.core.display.Markdown object>"
      ]
     },
     "metadata": {},
     "output_type": "display_data"
    },
    {
     "data": {
      "text/html": [
       "<div>\n",
       "<style scoped>\n",
       "    .dataframe tbody tr th:only-of-type {\n",
       "        vertical-align: middle;\n",
       "    }\n",
       "\n",
       "    .dataframe tbody tr th {\n",
       "        vertical-align: top;\n",
       "    }\n",
       "\n",
       "    .dataframe thead th {\n",
       "        text-align: right;\n",
       "    }\n",
       "</style>\n",
       "<table border=\"1\" class=\"dataframe\">\n",
       "  <thead>\n",
       "    <tr style=\"text-align: right;\">\n",
       "      <th></th>\n",
       "      <th>tailnum</th>\n",
       "    </tr>\n",
       "  </thead>\n",
       "  <tbody>\n",
       "    <tr>\n",
       "      <th>0</th>\n",
       "      <td>N361VA</td>\n",
       "    </tr>\n",
       "    <tr>\n",
       "      <th>1</th>\n",
       "      <td>N849VA</td>\n",
       "    </tr>\n",
       "    <tr>\n",
       "      <th>2</th>\n",
       "      <td>N851VA</td>\n",
       "    </tr>\n",
       "    <tr>\n",
       "      <th>3</th>\n",
       "      <td>N852VA</td>\n",
       "    </tr>\n",
       "    <tr>\n",
       "      <th>4</th>\n",
       "      <td>N853VA</td>\n",
       "    </tr>\n",
       "  </tbody>\n",
       "</table>\n",
       "</div>"
      ],
      "text/plain": [
       "  tailnum\n",
       "0  N361VA\n",
       "1  N849VA\n",
       "2  N851VA\n",
       "3  N852VA\n",
       "4  N853VA"
      ]
     },
     "execution_count": 31,
     "metadata": {},
     "output_type": "execute_result"
    }
   ],
   "source": [
    "start = timeit.default_timer()\n",
    "\n",
    "pd_7 = Planes['tailnum'].loc[Planes['seats'] > 150].loc[Planes['seats'] < 190].loc[Planes['year'] >= 2012]\n",
    "pd_7 = pd.DataFrame(pd_7).reset_index(drop=True)\n",
    "\n",
    "end = timeit.default_timer()\n",
    "t2 = timer_results(start, end, pd_7)\n",
    "\n",
    "pd_7.head()"
   ]
  },
  {
   "cell_type": "code",
   "execution_count": 32,
   "id": "1d511cae",
   "metadata": {},
   "outputs": [
    {
     "data": {
      "text/markdown": [
       "The **SQL** Query was a factor of 1.90 times faster than the Pandas."
      ],
      "text/plain": [
       "<IPython.core.display.Markdown object>"
      ]
     },
     "metadata": {},
     "output_type": "display_data"
    },
    {
     "data": {
      "text/markdown": [
       "<h3><span style=\"color:#008000\">Pandas SQL & Pure Pandas objects are a match!</span><h3>"
      ],
      "text/plain": [
       "<IPython.core.display.Markdown object>"
      ]
     },
     "metadata": {},
     "output_type": "display_data"
    }
   ],
   "source": [
    "# Comparing the returned objects from each query above. \n",
    "obj_1 = sql_7\n",
    "obj_2 = pd_7\n",
    "\n",
    "compare(obj_1, obj_2, t1, t2)\n",
    "pd.testing.assert_frame_equal(obj_1, obj_2)"
   ]
  },
  {
   "cell_type": "markdown",
   "id": "b0030bc8",
   "metadata": {},
   "source": [
    "----\n",
    "8. **`SELECT tailnum, manufacturer, seats FROM planes\n",
    "WHERE manufacturer IN (\"BOEING\", \"AIRBUS\", \"EMBRAER\") AND seats>390`**\n",
    "\n",
    "Here the query wants the `tailnum`, `manufacturer`, and the number of `seats` for the select manufacturers being Boeing, Airbus, and Embraer that have more than 390 seats. "
   ]
  },
  {
   "cell_type": "code",
   "execution_count": 33,
   "id": "e50b0ca2",
   "metadata": {},
   "outputs": [
    {
     "data": {
      "text/markdown": [
       "**Shape**: (13, 3). **Processing Time:** 0.0024597109999993094."
      ],
      "text/plain": [
       "<IPython.core.display.Markdown object>"
      ]
     },
     "metadata": {},
     "output_type": "display_data"
    },
    {
     "data": {
      "text/html": [
       "<div>\n",
       "<style scoped>\n",
       "    .dataframe tbody tr th:only-of-type {\n",
       "        vertical-align: middle;\n",
       "    }\n",
       "\n",
       "    .dataframe tbody tr th {\n",
       "        vertical-align: top;\n",
       "    }\n",
       "\n",
       "    .dataframe thead th {\n",
       "        text-align: right;\n",
       "    }\n",
       "</style>\n",
       "<table border=\"1\" class=\"dataframe\">\n",
       "  <thead>\n",
       "    <tr style=\"text-align: right;\">\n",
       "      <th></th>\n",
       "      <th>tailnum</th>\n",
       "      <th>manufacturer</th>\n",
       "      <th>seats</th>\n",
       "    </tr>\n",
       "  </thead>\n",
       "  <tbody>\n",
       "    <tr>\n",
       "      <th>0</th>\n",
       "      <td>N206UA</td>\n",
       "      <td>BOEING</td>\n",
       "      <td>400</td>\n",
       "    </tr>\n",
       "    <tr>\n",
       "      <th>1</th>\n",
       "      <td>N228UA</td>\n",
       "      <td>BOEING</td>\n",
       "      <td>400</td>\n",
       "    </tr>\n",
       "  </tbody>\n",
       "</table>\n",
       "</div>"
      ],
      "text/plain": [
       "  tailnum manufacturer  seats\n",
       "0  N206UA       BOEING    400\n",
       "1  N228UA       BOEING    400"
      ]
     },
     "execution_count": 33,
     "metadata": {},
     "output_type": "execute_result"
    }
   ],
   "source": [
    "start = timeit.default_timer()\n",
    "\n",
    "sql_8 = pd.read_sql_query('''\n",
    "    SELECT tailnum, manufacturer, seats FROM planes\n",
    "    WHERE manufacturer IN (\"BOEING\", \"AIRBUS\", \"EMBRAER\") AND seats>390\n",
    "    ''', conn)\n",
    "\n",
    "end = timeit.default_timer()\n",
    "t1 = timer_results(start, end, sql_8)\n",
    "\n",
    "sql_8.head(2)"
   ]
  },
  {
   "cell_type": "code",
   "execution_count": 34,
   "id": "c76a71c2",
   "metadata": {},
   "outputs": [
    {
     "data": {
      "text/markdown": [
       "**Shape**: (13, 3). **Processing Time:** 0.01015523099999971."
      ],
      "text/plain": [
       "<IPython.core.display.Markdown object>"
      ]
     },
     "metadata": {},
     "output_type": "display_data"
    },
    {
     "data": {
      "text/html": [
       "<div>\n",
       "<style scoped>\n",
       "    .dataframe tbody tr th:only-of-type {\n",
       "        vertical-align: middle;\n",
       "    }\n",
       "\n",
       "    .dataframe tbody tr th {\n",
       "        vertical-align: top;\n",
       "    }\n",
       "\n",
       "    .dataframe thead th {\n",
       "        text-align: right;\n",
       "    }\n",
       "</style>\n",
       "<table border=\"1\" class=\"dataframe\">\n",
       "  <thead>\n",
       "    <tr style=\"text-align: right;\">\n",
       "      <th></th>\n",
       "      <th>tailnum</th>\n",
       "      <th>manufacturer</th>\n",
       "      <th>seats</th>\n",
       "    </tr>\n",
       "  </thead>\n",
       "  <tbody>\n",
       "    <tr>\n",
       "      <th>0</th>\n",
       "      <td>N206UA</td>\n",
       "      <td>BOEING</td>\n",
       "      <td>400</td>\n",
       "    </tr>\n",
       "    <tr>\n",
       "      <th>1</th>\n",
       "      <td>N228UA</td>\n",
       "      <td>BOEING</td>\n",
       "      <td>400</td>\n",
       "    </tr>\n",
       "    <tr>\n",
       "      <th>2</th>\n",
       "      <td>N272AT</td>\n",
       "      <td>BOEING</td>\n",
       "      <td>400</td>\n",
       "    </tr>\n",
       "    <tr>\n",
       "      <th>3</th>\n",
       "      <td>N57016</td>\n",
       "      <td>BOEING</td>\n",
       "      <td>400</td>\n",
       "    </tr>\n",
       "    <tr>\n",
       "      <th>4</th>\n",
       "      <td>N670US</td>\n",
       "      <td>BOEING</td>\n",
       "      <td>450</td>\n",
       "    </tr>\n",
       "  </tbody>\n",
       "</table>\n",
       "</div>"
      ],
      "text/plain": [
       "  tailnum manufacturer  seats\n",
       "0  N206UA       BOEING    400\n",
       "1  N228UA       BOEING    400\n",
       "2  N272AT       BOEING    400\n",
       "3  N57016       BOEING    400\n",
       "4  N670US       BOEING    450"
      ]
     },
     "execution_count": 34,
     "metadata": {},
     "output_type": "execute_result"
    }
   ],
   "source": [
    "start = timeit.default_timer()\n",
    "\n",
    "pd_8 = Planes.groupby(['tailnum', 'manufacturer', 'seats'], as_index=False)['speed'].size()\n",
    "pd_8 = pd_8.loc[Planes['seats'] > 390].reset_index(drop=True)\n",
    "pd_8.drop('size', axis=1, inplace=True)\n",
    "\n",
    "end = timeit.default_timer()\n",
    "t2 = timer_results(start, end, pd_8)\n",
    "\n",
    "pd_8.head()"
   ]
  },
  {
   "cell_type": "code",
   "execution_count": 35,
   "id": "1667555f",
   "metadata": {},
   "outputs": [
    {
     "data": {
      "text/markdown": [
       "The **SQL** Query was a factor of 4.13 times faster than the Pandas."
      ],
      "text/plain": [
       "<IPython.core.display.Markdown object>"
      ]
     },
     "metadata": {},
     "output_type": "display_data"
    },
    {
     "data": {
      "text/markdown": [
       "<h3><span style=\"color:#008000\">Pandas SQL & Pure Pandas objects are a match!</span><h3>"
      ],
      "text/plain": [
       "<IPython.core.display.Markdown object>"
      ]
     },
     "metadata": {},
     "output_type": "display_data"
    }
   ],
   "source": [
    "# Comparing the returned objects from each query above. \n",
    "obj_1 = sql_8\n",
    "obj_2 = pd_8\n",
    "\n",
    "compare(obj_1, obj_2, t1, t2)\n",
    "pd.testing.assert_frame_equal(obj_1, obj_2)"
   ]
  },
  {
   "cell_type": "markdown",
   "id": "f6c55d85",
   "metadata": {},
   "source": [
    "----\n",
    "9. **`SELECT DISTINCT year, seats FROM planes\n",
    "WHERE year >= 2012 ORDER BY year ASC, seats DESC`**\n",
    "\n",
    "The query returns the `year` and `seats` from `Planes` where the year of manufacture is at least 2012 ordering the years in ascending order and the seats in descending."
   ]
  },
  {
   "cell_type": "code",
   "execution_count": 36,
   "id": "6ab40b30",
   "metadata": {},
   "outputs": [
    {
     "data": {
      "text/markdown": [
       "**Shape**: (21, 2). **Processing Time:** 0.0016859440000001058."
      ],
      "text/plain": [
       "<IPython.core.display.Markdown object>"
      ]
     },
     "metadata": {},
     "output_type": "display_data"
    },
    {
     "data": {
      "text/html": [
       "<div>\n",
       "<style scoped>\n",
       "    .dataframe tbody tr th:only-of-type {\n",
       "        vertical-align: middle;\n",
       "    }\n",
       "\n",
       "    .dataframe tbody tr th {\n",
       "        vertical-align: top;\n",
       "    }\n",
       "\n",
       "    .dataframe thead th {\n",
       "        text-align: right;\n",
       "    }\n",
       "</style>\n",
       "<table border=\"1\" class=\"dataframe\">\n",
       "  <thead>\n",
       "    <tr style=\"text-align: right;\">\n",
       "      <th></th>\n",
       "      <th>year</th>\n",
       "      <th>seats</th>\n",
       "    </tr>\n",
       "  </thead>\n",
       "  <tbody>\n",
       "    <tr>\n",
       "      <th>0</th>\n",
       "      <td>2012.0</td>\n",
       "      <td>379</td>\n",
       "    </tr>\n",
       "    <tr>\n",
       "      <th>1</th>\n",
       "      <td>2012.0</td>\n",
       "      <td>377</td>\n",
       "    </tr>\n",
       "  </tbody>\n",
       "</table>\n",
       "</div>"
      ],
      "text/plain": [
       "     year  seats\n",
       "0  2012.0    379\n",
       "1  2012.0    377"
      ]
     },
     "execution_count": 36,
     "metadata": {},
     "output_type": "execute_result"
    }
   ],
   "source": [
    "start = timeit.default_timer()\n",
    "\n",
    "sql_9 = pd.read_sql_query('''\n",
    "    SELECT DISTINCT year, seats FROM planes\n",
    "    WHERE year >= 2012 ORDER BY year ASC, seats DESC\n",
    "    ''', conn)\n",
    "\n",
    "end = timeit.default_timer()\n",
    "t1 = timer_results(start, end, sql_9)\n",
    "\n",
    "sql_9.head(2)"
   ]
  },
  {
   "cell_type": "code",
   "execution_count": 37,
   "id": "7530d45f",
   "metadata": {},
   "outputs": [
    {
     "data": {
      "text/markdown": [
       "**Shape**: (21, 2). **Processing Time:** 0.009182571000000195."
      ],
      "text/plain": [
       "<IPython.core.display.Markdown object>"
      ]
     },
     "metadata": {},
     "output_type": "display_data"
    },
    {
     "data": {
      "text/html": [
       "<div>\n",
       "<style scoped>\n",
       "    .dataframe tbody tr th:only-of-type {\n",
       "        vertical-align: middle;\n",
       "    }\n",
       "\n",
       "    .dataframe tbody tr th {\n",
       "        vertical-align: top;\n",
       "    }\n",
       "\n",
       "    .dataframe thead th {\n",
       "        text-align: right;\n",
       "    }\n",
       "</style>\n",
       "<table border=\"1\" class=\"dataframe\">\n",
       "  <thead>\n",
       "    <tr style=\"text-align: right;\">\n",
       "      <th></th>\n",
       "      <th>year</th>\n",
       "      <th>seats</th>\n",
       "    </tr>\n",
       "  </thead>\n",
       "  <tbody>\n",
       "    <tr>\n",
       "      <th>0</th>\n",
       "      <td>2012.0</td>\n",
       "      <td>379</td>\n",
       "    </tr>\n",
       "    <tr>\n",
       "      <th>1</th>\n",
       "      <td>2012.0</td>\n",
       "      <td>377</td>\n",
       "    </tr>\n",
       "    <tr>\n",
       "      <th>2</th>\n",
       "      <td>2012.0</td>\n",
       "      <td>260</td>\n",
       "    </tr>\n",
       "    <tr>\n",
       "      <th>3</th>\n",
       "      <td>2012.0</td>\n",
       "      <td>222</td>\n",
       "    </tr>\n",
       "    <tr>\n",
       "      <th>4</th>\n",
       "      <td>2012.0</td>\n",
       "      <td>200</td>\n",
       "    </tr>\n",
       "  </tbody>\n",
       "</table>\n",
       "</div>"
      ],
      "text/plain": [
       "     year  seats\n",
       "0  2012.0    379\n",
       "1  2012.0    377\n",
       "2  2012.0    260\n",
       "3  2012.0    222\n",
       "4  2012.0    200"
      ]
     },
     "execution_count": 37,
     "metadata": {},
     "output_type": "execute_result"
    }
   ],
   "source": [
    "start = timeit.default_timer()\n",
    "\n",
    "pd_9 = Planes.groupby(['year', 'seats'], as_index=False)['speed'].count()\n",
    "pd_9.drop('speed', axis=1, inplace=True)\n",
    "pd_9 = pd_9.loc[pd_9['year'] >= 2012]\n",
    "pd_9.sort_values(['year', 'seats'], ascending=[True, False], inplace=True)\n",
    "pd_9.reset_index(drop=True, inplace=True)\n",
    "\n",
    "end = timeit.default_timer()\n",
    "t2 = timer_results(start, end, pd_9)\n",
    "\n",
    "pd_9.head()"
   ]
  },
  {
   "cell_type": "code",
   "execution_count": 38,
   "id": "02f97f93",
   "metadata": {},
   "outputs": [
    {
     "data": {
      "text/markdown": [
       "The **SQL** Query was a factor of 5.45 times faster than the Pandas."
      ],
      "text/plain": [
       "<IPython.core.display.Markdown object>"
      ]
     },
     "metadata": {},
     "output_type": "display_data"
    },
    {
     "data": {
      "text/markdown": [
       "<h3><span style=\"color:#008000\">Pandas SQL & Pure Pandas objects are a match!</span><h3>"
      ],
      "text/plain": [
       "<IPython.core.display.Markdown object>"
      ]
     },
     "metadata": {},
     "output_type": "display_data"
    }
   ],
   "source": [
    "# Comparing the returned objects from each query above. \n",
    "obj_1 = sql_9\n",
    "obj_2 = pd_9\n",
    "\n",
    "compare(obj_1, obj_2, t1, t2)\n",
    "pd.testing.assert_frame_equal(obj_1, obj_2)"
   ]
  },
  {
   "cell_type": "markdown",
   "id": "2c271d9e",
   "metadata": {},
   "source": [
    "----\n",
    "10. **`SELECT DISTINCT year, seats FROM planes\n",
    "WHERE year >= 2012 ORDER BY seats DESC, year ASC`**\n",
    "\n",
    "This query is the same as above returning the `year` and `seats` from `Planes` where the year of manufacture is at least 2012 but this time ordering the seats first in descending order and the years after in ascending."
   ]
  },
  {
   "cell_type": "code",
   "execution_count": 39,
   "id": "8c09d070",
   "metadata": {},
   "outputs": [
    {
     "data": {
      "text/markdown": [
       "**Shape**: (21, 2). **Processing Time:** 0.002125465000000659."
      ],
      "text/plain": [
       "<IPython.core.display.Markdown object>"
      ]
     },
     "metadata": {},
     "output_type": "display_data"
    },
    {
     "data": {
      "text/html": [
       "<div>\n",
       "<style scoped>\n",
       "    .dataframe tbody tr th:only-of-type {\n",
       "        vertical-align: middle;\n",
       "    }\n",
       "\n",
       "    .dataframe tbody tr th {\n",
       "        vertical-align: top;\n",
       "    }\n",
       "\n",
       "    .dataframe thead th {\n",
       "        text-align: right;\n",
       "    }\n",
       "</style>\n",
       "<table border=\"1\" class=\"dataframe\">\n",
       "  <thead>\n",
       "    <tr style=\"text-align: right;\">\n",
       "      <th></th>\n",
       "      <th>year</th>\n",
       "      <th>seats</th>\n",
       "    </tr>\n",
       "  </thead>\n",
       "  <tbody>\n",
       "    <tr>\n",
       "      <th>0</th>\n",
       "      <td>2012.0</td>\n",
       "      <td>379</td>\n",
       "    </tr>\n",
       "    <tr>\n",
       "      <th>1</th>\n",
       "      <td>2013.0</td>\n",
       "      <td>379</td>\n",
       "    </tr>\n",
       "  </tbody>\n",
       "</table>\n",
       "</div>"
      ],
      "text/plain": [
       "     year  seats\n",
       "0  2012.0    379\n",
       "1  2013.0    379"
      ]
     },
     "execution_count": 39,
     "metadata": {},
     "output_type": "execute_result"
    }
   ],
   "source": [
    "start = timeit.default_timer()\n",
    "\n",
    "sql_10 = pd.read_sql_query('''\n",
    "    SELECT DISTINCT year, seats FROM planes\n",
    "    WHERE year >= 2012 ORDER BY seats DESC, year ASC\n",
    "    ''', conn)\n",
    "\n",
    "end = timeit.default_timer()\n",
    "t1 = timer_results(start, end, sql_10)\n",
    "\n",
    "sql_10.head(2)"
   ]
  },
  {
   "cell_type": "code",
   "execution_count": 40,
   "id": "d5ebd1b0",
   "metadata": {},
   "outputs": [
    {
     "data": {
      "text/markdown": [
       "**Shape**: (21, 2). **Processing Time:** 0.007464222000000298."
      ],
      "text/plain": [
       "<IPython.core.display.Markdown object>"
      ]
     },
     "metadata": {},
     "output_type": "display_data"
    },
    {
     "data": {
      "text/html": [
       "<div>\n",
       "<style scoped>\n",
       "    .dataframe tbody tr th:only-of-type {\n",
       "        vertical-align: middle;\n",
       "    }\n",
       "\n",
       "    .dataframe tbody tr th {\n",
       "        vertical-align: top;\n",
       "    }\n",
       "\n",
       "    .dataframe thead th {\n",
       "        text-align: right;\n",
       "    }\n",
       "</style>\n",
       "<table border=\"1\" class=\"dataframe\">\n",
       "  <thead>\n",
       "    <tr style=\"text-align: right;\">\n",
       "      <th></th>\n",
       "      <th>year</th>\n",
       "      <th>seats</th>\n",
       "    </tr>\n",
       "  </thead>\n",
       "  <tbody>\n",
       "    <tr>\n",
       "      <th>0</th>\n",
       "      <td>2012.0</td>\n",
       "      <td>379</td>\n",
       "    </tr>\n",
       "    <tr>\n",
       "      <th>1</th>\n",
       "      <td>2013.0</td>\n",
       "      <td>379</td>\n",
       "    </tr>\n",
       "    <tr>\n",
       "      <th>2</th>\n",
       "      <td>2012.0</td>\n",
       "      <td>377</td>\n",
       "    </tr>\n",
       "    <tr>\n",
       "      <th>3</th>\n",
       "      <td>2013.0</td>\n",
       "      <td>377</td>\n",
       "    </tr>\n",
       "    <tr>\n",
       "      <th>4</th>\n",
       "      <td>2012.0</td>\n",
       "      <td>260</td>\n",
       "    </tr>\n",
       "  </tbody>\n",
       "</table>\n",
       "</div>"
      ],
      "text/plain": [
       "     year  seats\n",
       "0  2012.0    379\n",
       "1  2013.0    379\n",
       "2  2012.0    377\n",
       "3  2013.0    377\n",
       "4  2012.0    260"
      ]
     },
     "execution_count": 40,
     "metadata": {},
     "output_type": "execute_result"
    }
   ],
   "source": [
    "start = timeit.default_timer()\n",
    "\n",
    "pd_10 = Planes.groupby(['year', 'seats'], as_index=False)['speed'].count()\n",
    "pd_10.drop('speed', axis=1, inplace=True)\n",
    "pd_10 = pd_10.loc[pd_10['year'] >= 2012]\n",
    "pd_10.sort_values(['seats', 'year'], ascending=[False, True], inplace=True)\n",
    "pd_10.reset_index(drop=True, inplace=True)\n",
    "\n",
    "end = timeit.default_timer()\n",
    "t2 = timer_results(start, end, pd_10)\n",
    "\n",
    "pd_10.head()"
   ]
  },
  {
   "cell_type": "code",
   "execution_count": 41,
   "id": "7e71bebe",
   "metadata": {},
   "outputs": [
    {
     "data": {
      "text/markdown": [
       "The **SQL** Query was a factor of 3.51 times faster than the Pandas."
      ],
      "text/plain": [
       "<IPython.core.display.Markdown object>"
      ]
     },
     "metadata": {},
     "output_type": "display_data"
    },
    {
     "data": {
      "text/markdown": [
       "<h3><span style=\"color:#008000\">Pandas SQL & Pure Pandas objects are a match!</span><h3>"
      ],
      "text/plain": [
       "<IPython.core.display.Markdown object>"
      ]
     },
     "metadata": {},
     "output_type": "display_data"
    }
   ],
   "source": [
    "# Comparing the returned objects from each query above. \n",
    "obj_1 = sql_10\n",
    "obj_2 = pd_10\n",
    "\n",
    "compare(obj_1, obj_2, t1, t2)\n",
    "pd.testing.assert_frame_equal(obj_1, obj_2)"
   ]
  },
  {
   "cell_type": "markdown",
   "id": "4aa119a4",
   "metadata": {},
   "source": [
    "----\n",
    "11. **`SELECT manufacturer, COUNT(*) FROM planes\n",
    "WHERE seats > 200 GROUP BY manufacturer`**\n",
    "\n",
    "With this query we're looking for count of how many planes each `manufacturer` has in the dataset with more than 200 seats. "
   ]
  },
  {
   "cell_type": "code",
   "execution_count": 42,
   "id": "c16369c7",
   "metadata": {},
   "outputs": [
    {
     "data": {
      "text/markdown": [
       "**Shape**: (3, 2). **Processing Time:** 0.002174832999999765."
      ],
      "text/plain": [
       "<IPython.core.display.Markdown object>"
      ]
     },
     "metadata": {},
     "output_type": "display_data"
    },
    {
     "data": {
      "text/html": [
       "<div>\n",
       "<style scoped>\n",
       "    .dataframe tbody tr th:only-of-type {\n",
       "        vertical-align: middle;\n",
       "    }\n",
       "\n",
       "    .dataframe tbody tr th {\n",
       "        vertical-align: top;\n",
       "    }\n",
       "\n",
       "    .dataframe thead th {\n",
       "        text-align: right;\n",
       "    }\n",
       "</style>\n",
       "<table border=\"1\" class=\"dataframe\">\n",
       "  <thead>\n",
       "    <tr style=\"text-align: right;\">\n",
       "      <th></th>\n",
       "      <th>manufacturer</th>\n",
       "      <th>COUNT(*)</th>\n",
       "    </tr>\n",
       "  </thead>\n",
       "  <tbody>\n",
       "    <tr>\n",
       "      <th>0</th>\n",
       "      <td>AIRBUS</td>\n",
       "      <td>66</td>\n",
       "    </tr>\n",
       "    <tr>\n",
       "      <th>1</th>\n",
       "      <td>AIRBUS INDUSTRIE</td>\n",
       "      <td>4</td>\n",
       "    </tr>\n",
       "    <tr>\n",
       "      <th>2</th>\n",
       "      <td>BOEING</td>\n",
       "      <td>225</td>\n",
       "    </tr>\n",
       "  </tbody>\n",
       "</table>\n",
       "</div>"
      ],
      "text/plain": [
       "       manufacturer  COUNT(*)\n",
       "0            AIRBUS        66\n",
       "1  AIRBUS INDUSTRIE         4\n",
       "2            BOEING       225"
      ]
     },
     "execution_count": 42,
     "metadata": {},
     "output_type": "execute_result"
    }
   ],
   "source": [
    "start = timeit.default_timer()\n",
    "\n",
    "sql_11 = pd.read_sql_query('''\n",
    "    SELECT manufacturer, COUNT(*) FROM planes\n",
    "    WHERE seats > 200 GROUP BY manufacturer\n",
    "    ''', conn) \n",
    "\n",
    "end = timeit.default_timer()\n",
    "t1 = timer_results(start, end, sql_11)\n",
    "\n",
    "sql_11"
   ]
  },
  {
   "cell_type": "code",
   "execution_count": 43,
   "id": "fc033955",
   "metadata": {},
   "outputs": [
    {
     "data": {
      "text/markdown": [
       "**Shape**: (3, 2). **Processing Time:** 0.004900241000000527."
      ],
      "text/plain": [
       "<IPython.core.display.Markdown object>"
      ]
     },
     "metadata": {},
     "output_type": "display_data"
    },
    {
     "data": {
      "text/html": [
       "<div>\n",
       "<style scoped>\n",
       "    .dataframe tbody tr th:only-of-type {\n",
       "        vertical-align: middle;\n",
       "    }\n",
       "\n",
       "    .dataframe tbody tr th {\n",
       "        vertical-align: top;\n",
       "    }\n",
       "\n",
       "    .dataframe thead th {\n",
       "        text-align: right;\n",
       "    }\n",
       "</style>\n",
       "<table border=\"1\" class=\"dataframe\">\n",
       "  <thead>\n",
       "    <tr style=\"text-align: right;\">\n",
       "      <th></th>\n",
       "      <th>manufacturer</th>\n",
       "      <th>COUNT(*)</th>\n",
       "    </tr>\n",
       "  </thead>\n",
       "  <tbody>\n",
       "    <tr>\n",
       "      <th>0</th>\n",
       "      <td>AIRBUS</td>\n",
       "      <td>66</td>\n",
       "    </tr>\n",
       "    <tr>\n",
       "      <th>1</th>\n",
       "      <td>AIRBUS INDUSTRIE</td>\n",
       "      <td>4</td>\n",
       "    </tr>\n",
       "    <tr>\n",
       "      <th>2</th>\n",
       "      <td>BOEING</td>\n",
       "      <td>225</td>\n",
       "    </tr>\n",
       "  </tbody>\n",
       "</table>\n",
       "</div>"
      ],
      "text/plain": [
       "       manufacturer  COUNT(*)\n",
       "0            AIRBUS        66\n",
       "1  AIRBUS INDUSTRIE         4\n",
       "2            BOEING       225"
      ]
     },
     "execution_count": 43,
     "metadata": {},
     "output_type": "execute_result"
    }
   ],
   "source": [
    "start = timeit.default_timer()\n",
    "\n",
    "pd_11 = Planes.loc[Planes['seats'] > 200]\n",
    "pd_11 = pd_11.groupby(['manufacturer'], as_index=False)['seats'].count() \n",
    "pd_11.rename(columns={'seats': 'COUNT(*)'}, inplace=True)\n",
    "\n",
    "end = timeit.default_timer()\n",
    "t2 = timer_results(start, end, pd_11)\n",
    "\n",
    "pd_11"
   ]
  },
  {
   "cell_type": "code",
   "execution_count": 44,
   "id": "9a0a9fbd",
   "metadata": {},
   "outputs": [
    {
     "data": {
      "text/markdown": [
       "The **SQL** Query was a factor of 2.25 times faster than the Pandas."
      ],
      "text/plain": [
       "<IPython.core.display.Markdown object>"
      ]
     },
     "metadata": {},
     "output_type": "display_data"
    },
    {
     "data": {
      "text/markdown": [
       "<h3><span style=\"color:#008000\">Pandas SQL & Pure Pandas objects are a match!</span><h3>"
      ],
      "text/plain": [
       "<IPython.core.display.Markdown object>"
      ]
     },
     "metadata": {},
     "output_type": "display_data"
    }
   ],
   "source": [
    "# Comparing the returned objects from each query above. \n",
    "obj_1 = sql_11\n",
    "obj_2 = pd_11\n",
    "\n",
    "compare(obj_1, obj_2, t1, t2)\n",
    "pd.testing.assert_frame_equal(obj_1, obj_2)"
   ]
  },
  {
   "cell_type": "markdown",
   "id": "b6f75266",
   "metadata": {},
   "source": [
    "----\n",
    "12. **`SELECT manufacturer, COUNT(*) FROM planes\n",
    "GROUP BY manufacturer HAVING COUNT(*) > 10`**\n",
    "\n",
    "Here we're grouping by `manufacturer` while counting the number of planes in the dataset from each of the manufacturers."
   ]
  },
  {
   "cell_type": "code",
   "execution_count": 45,
   "id": "719ae112",
   "metadata": {},
   "outputs": [
    {
     "data": {
      "text/markdown": [
       "**Shape**: (8, 2). **Processing Time:** 0.0033470189999995625."
      ],
      "text/plain": [
       "<IPython.core.display.Markdown object>"
      ]
     },
     "metadata": {},
     "output_type": "display_data"
    },
    {
     "data": {
      "text/html": [
       "<div>\n",
       "<style scoped>\n",
       "    .dataframe tbody tr th:only-of-type {\n",
       "        vertical-align: middle;\n",
       "    }\n",
       "\n",
       "    .dataframe tbody tr th {\n",
       "        vertical-align: top;\n",
       "    }\n",
       "\n",
       "    .dataframe thead th {\n",
       "        text-align: right;\n",
       "    }\n",
       "</style>\n",
       "<table border=\"1\" class=\"dataframe\">\n",
       "  <thead>\n",
       "    <tr style=\"text-align: right;\">\n",
       "      <th></th>\n",
       "      <th>manufacturer</th>\n",
       "      <th>COUNT(*)</th>\n",
       "    </tr>\n",
       "  </thead>\n",
       "  <tbody>\n",
       "    <tr>\n",
       "      <th>0</th>\n",
       "      <td>AIRBUS</td>\n",
       "      <td>336</td>\n",
       "    </tr>\n",
       "    <tr>\n",
       "      <th>1</th>\n",
       "      <td>AIRBUS INDUSTRIE</td>\n",
       "      <td>400</td>\n",
       "    </tr>\n",
       "  </tbody>\n",
       "</table>\n",
       "</div>"
      ],
      "text/plain": [
       "       manufacturer  COUNT(*)\n",
       "0            AIRBUS       336\n",
       "1  AIRBUS INDUSTRIE       400"
      ]
     },
     "execution_count": 45,
     "metadata": {},
     "output_type": "execute_result"
    }
   ],
   "source": [
    "start = timeit.default_timer()\n",
    "\n",
    "sql_12 = pd.read_sql_query('''\n",
    "    SELECT manufacturer, COUNT(*) FROM planes\n",
    "    GROUP BY manufacturer HAVING COUNT(*) > 10\n",
    "    ''', conn)\n",
    "\n",
    "end = timeit.default_timer()\n",
    "t1 = timer_results(start, end, sql_12)\n",
    "\n",
    "sql_12.head(2)"
   ]
  },
  {
   "cell_type": "code",
   "execution_count": 46,
   "id": "89ce86d0",
   "metadata": {},
   "outputs": [
    {
     "data": {
      "text/markdown": [
       "**Shape**: (8, 2). **Processing Time:** 0.004691290000000237."
      ],
      "text/plain": [
       "<IPython.core.display.Markdown object>"
      ]
     },
     "metadata": {},
     "output_type": "display_data"
    },
    {
     "data": {
      "text/html": [
       "<div>\n",
       "<style scoped>\n",
       "    .dataframe tbody tr th:only-of-type {\n",
       "        vertical-align: middle;\n",
       "    }\n",
       "\n",
       "    .dataframe tbody tr th {\n",
       "        vertical-align: top;\n",
       "    }\n",
       "\n",
       "    .dataframe thead th {\n",
       "        text-align: right;\n",
       "    }\n",
       "</style>\n",
       "<table border=\"1\" class=\"dataframe\">\n",
       "  <thead>\n",
       "    <tr style=\"text-align: right;\">\n",
       "      <th></th>\n",
       "      <th>manufacturer</th>\n",
       "      <th>COUNT(*)</th>\n",
       "    </tr>\n",
       "  </thead>\n",
       "  <tbody>\n",
       "    <tr>\n",
       "      <th>0</th>\n",
       "      <td>AIRBUS</td>\n",
       "      <td>336</td>\n",
       "    </tr>\n",
       "    <tr>\n",
       "      <th>1</th>\n",
       "      <td>AIRBUS INDUSTRIE</td>\n",
       "      <td>400</td>\n",
       "    </tr>\n",
       "    <tr>\n",
       "      <th>2</th>\n",
       "      <td>BOEING</td>\n",
       "      <td>1630</td>\n",
       "    </tr>\n",
       "    <tr>\n",
       "      <th>3</th>\n",
       "      <td>BOMBARDIER INC</td>\n",
       "      <td>368</td>\n",
       "    </tr>\n",
       "    <tr>\n",
       "      <th>4</th>\n",
       "      <td>EMBRAER</td>\n",
       "      <td>299</td>\n",
       "    </tr>\n",
       "  </tbody>\n",
       "</table>\n",
       "</div>"
      ],
      "text/plain": [
       "       manufacturer  COUNT(*)\n",
       "0            AIRBUS       336\n",
       "1  AIRBUS INDUSTRIE       400\n",
       "2            BOEING      1630\n",
       "3    BOMBARDIER INC       368\n",
       "4           EMBRAER       299"
      ]
     },
     "execution_count": 46,
     "metadata": {},
     "output_type": "execute_result"
    }
   ],
   "source": [
    "start = timeit.default_timer()\n",
    "\n",
    "pd_12 = Planes.groupby(['manufacturer'])['manufacturer'].count()\n",
    "pd_12 = pd.DataFrame(pd_12).rename(columns={'manufacturer': 'COUNT(*)'})\n",
    "pd_12 = pd_12.loc[pd_12['COUNT(*)'] > 10]  \n",
    "pd_12.reset_index(inplace=True)\n",
    "\n",
    "end = timeit.default_timer()\n",
    "t2 = timer_results(start, end, pd_12)\n",
    "\n",
    "pd_12.head()"
   ]
  },
  {
   "cell_type": "code",
   "execution_count": 47,
   "id": "97b01a1f",
   "metadata": {},
   "outputs": [
    {
     "data": {
      "text/markdown": [
       "The **SQL** Query was a factor of 1.40 times faster than the Pandas."
      ],
      "text/plain": [
       "<IPython.core.display.Markdown object>"
      ]
     },
     "metadata": {},
     "output_type": "display_data"
    },
    {
     "data": {
      "text/markdown": [
       "<h3><span style=\"color:#008000\">Pandas SQL & Pure Pandas objects are a match!</span><h3>"
      ],
      "text/plain": [
       "<IPython.core.display.Markdown object>"
      ]
     },
     "metadata": {},
     "output_type": "display_data"
    }
   ],
   "source": [
    "# Comparing the returned objects from each query above. \n",
    "obj_1 = sql_12\n",
    "obj_2 = pd_12\n",
    "\n",
    "compare(obj_1, obj_2, t1, t2)\n",
    "pd.testing.assert_frame_equal(obj_1, obj_2)"
   ]
  },
  {
   "cell_type": "markdown",
   "id": "6aa224af",
   "metadata": {},
   "source": [
    "----\n",
    "13. **`SELECT manufacturer, COUNT(*) FROM planes\n",
    "WHERE seats > 200 GROUP BY manufacturer HAVING COUNT(*) > 10`**\n",
    "\n",
    "Similar to the last query where we we're grouping by `manufacturer` while counting the number of planes in the dataset from each of the manufacturers but with the added parameter of the planes having more than 200 `seats`."
   ]
  },
  {
   "cell_type": "code",
   "execution_count": 48,
   "id": "1826c98a",
   "metadata": {},
   "outputs": [
    {
     "data": {
      "text/markdown": [
       "**Shape**: (2, 2). **Processing Time:** 0.0017881199999996156."
      ],
      "text/plain": [
       "<IPython.core.display.Markdown object>"
      ]
     },
     "metadata": {},
     "output_type": "display_data"
    },
    {
     "data": {
      "text/html": [
       "<div>\n",
       "<style scoped>\n",
       "    .dataframe tbody tr th:only-of-type {\n",
       "        vertical-align: middle;\n",
       "    }\n",
       "\n",
       "    .dataframe tbody tr th {\n",
       "        vertical-align: top;\n",
       "    }\n",
       "\n",
       "    .dataframe thead th {\n",
       "        text-align: right;\n",
       "    }\n",
       "</style>\n",
       "<table border=\"1\" class=\"dataframe\">\n",
       "  <thead>\n",
       "    <tr style=\"text-align: right;\">\n",
       "      <th></th>\n",
       "      <th>manufacturer</th>\n",
       "      <th>COUNT(*)</th>\n",
       "    </tr>\n",
       "  </thead>\n",
       "  <tbody>\n",
       "    <tr>\n",
       "      <th>0</th>\n",
       "      <td>AIRBUS</td>\n",
       "      <td>66</td>\n",
       "    </tr>\n",
       "    <tr>\n",
       "      <th>1</th>\n",
       "      <td>BOEING</td>\n",
       "      <td>225</td>\n",
       "    </tr>\n",
       "  </tbody>\n",
       "</table>\n",
       "</div>"
      ],
      "text/plain": [
       "  manufacturer  COUNT(*)\n",
       "0       AIRBUS        66\n",
       "1       BOEING       225"
      ]
     },
     "execution_count": 48,
     "metadata": {},
     "output_type": "execute_result"
    }
   ],
   "source": [
    "start = timeit.default_timer()\n",
    "\n",
    "sql_13 = pd.read_sql_query('''\n",
    "    SELECT manufacturer, COUNT(*) FROM planes\n",
    "    WHERE seats > 200 GROUP BY manufacturer HAVING COUNT(*) > 10\n",
    "    ''', conn)\n",
    "\n",
    "end = timeit.default_timer()\n",
    "t1 = timer_results(start, end, sql_13)\n",
    "\n",
    "sql_13"
   ]
  },
  {
   "cell_type": "code",
   "execution_count": 49,
   "id": "25f5a5dc",
   "metadata": {},
   "outputs": [
    {
     "data": {
      "text/markdown": [
       "**Shape**: (2, 2). **Processing Time:** 0.011369752999999427."
      ],
      "text/plain": [
       "<IPython.core.display.Markdown object>"
      ]
     },
     "metadata": {},
     "output_type": "display_data"
    },
    {
     "data": {
      "text/html": [
       "<div>\n",
       "<style scoped>\n",
       "    .dataframe tbody tr th:only-of-type {\n",
       "        vertical-align: middle;\n",
       "    }\n",
       "\n",
       "    .dataframe tbody tr th {\n",
       "        vertical-align: top;\n",
       "    }\n",
       "\n",
       "    .dataframe thead th {\n",
       "        text-align: right;\n",
       "    }\n",
       "</style>\n",
       "<table border=\"1\" class=\"dataframe\">\n",
       "  <thead>\n",
       "    <tr style=\"text-align: right;\">\n",
       "      <th></th>\n",
       "      <th>manufacturer</th>\n",
       "      <th>COUNT(*)</th>\n",
       "    </tr>\n",
       "  </thead>\n",
       "  <tbody>\n",
       "    <tr>\n",
       "      <th>0</th>\n",
       "      <td>AIRBUS</td>\n",
       "      <td>66</td>\n",
       "    </tr>\n",
       "    <tr>\n",
       "      <th>1</th>\n",
       "      <td>BOEING</td>\n",
       "      <td>225</td>\n",
       "    </tr>\n",
       "  </tbody>\n",
       "</table>\n",
       "</div>"
      ],
      "text/plain": [
       "  manufacturer  COUNT(*)\n",
       "0       AIRBUS        66\n",
       "1       BOEING       225"
      ]
     },
     "execution_count": 49,
     "metadata": {},
     "output_type": "execute_result"
    }
   ],
   "source": [
    "start = timeit.default_timer()\n",
    "\n",
    "pd_13 = Planes.loc[Planes['seats'] > 200]\n",
    "pd_13 = pd_13.groupby(['manufacturer', 'seats'])['manufacturer'].count()\n",
    "pd_13 = pd.DataFrame(pd_13).rename(columns={'manufacturer': 'COUNT(*)'})\n",
    "pd_13.reset_index(inplace=True)\n",
    "pd_13 = pd_13.groupby(['manufacturer'], as_index=False)['COUNT(*)'].sum()\n",
    "pd_13 = pd_13.loc[pd_13['COUNT(*)'] > 10]\n",
    "pd_13.reset_index(drop=True, inplace=True)\n",
    "\n",
    "end = timeit.default_timer()\n",
    "t2 = timer_results(start, end, pd_13)\n",
    "\n",
    "pd_13"
   ]
  },
  {
   "cell_type": "code",
   "execution_count": 50,
   "id": "574ec964",
   "metadata": {},
   "outputs": [
    {
     "data": {
      "text/markdown": [
       "The **SQL** Query was a factor of 6.36 times faster than the Pandas."
      ],
      "text/plain": [
       "<IPython.core.display.Markdown object>"
      ]
     },
     "metadata": {},
     "output_type": "display_data"
    },
    {
     "data": {
      "text/markdown": [
       "<h3><span style=\"color:#008000\">Pandas SQL & Pure Pandas objects are a match!</span><h3>"
      ],
      "text/plain": [
       "<IPython.core.display.Markdown object>"
      ]
     },
     "metadata": {},
     "output_type": "display_data"
    }
   ],
   "source": [
    "# Comparing the returned objects from each query above. \n",
    "obj_1 = sql_13\n",
    "obj_2 = pd_13\n",
    "\n",
    "compare(obj_1, obj_2, t1, t2)\n",
    "pd.testing.assert_frame_equal(obj_1, obj_2)"
   ]
  },
  {
   "cell_type": "markdown",
   "id": "ff16e539",
   "metadata": {},
   "source": [
    "----\n",
    "14. **`SELECT manufacturer, COUNT(*) AS howmany\n",
    "FROM planes\n",
    "GROUP BY manufacturer\n",
    "ORDER BY howmany DESC LIMIT 5`**\n",
    "\n",
    "Here the query is requesting the number of planes in the dataset from each `manufacturer` sorted in descending order and limited to the top five results, the manufacturers with the most planes.  "
   ]
  },
  {
   "cell_type": "code",
   "execution_count": 51,
   "id": "4fa6a6a2",
   "metadata": {},
   "outputs": [
    {
     "data": {
      "text/markdown": [
       "**Shape**: (5, 2). **Processing Time:** 0.0028992899999993327."
      ],
      "text/plain": [
       "<IPython.core.display.Markdown object>"
      ]
     },
     "metadata": {},
     "output_type": "display_data"
    },
    {
     "data": {
      "text/html": [
       "<div>\n",
       "<style scoped>\n",
       "    .dataframe tbody tr th:only-of-type {\n",
       "        vertical-align: middle;\n",
       "    }\n",
       "\n",
       "    .dataframe tbody tr th {\n",
       "        vertical-align: top;\n",
       "    }\n",
       "\n",
       "    .dataframe thead th {\n",
       "        text-align: right;\n",
       "    }\n",
       "</style>\n",
       "<table border=\"1\" class=\"dataframe\">\n",
       "  <thead>\n",
       "    <tr style=\"text-align: right;\">\n",
       "      <th></th>\n",
       "      <th>manufacturer</th>\n",
       "      <th>howmany</th>\n",
       "    </tr>\n",
       "  </thead>\n",
       "  <tbody>\n",
       "    <tr>\n",
       "      <th>0</th>\n",
       "      <td>BOEING</td>\n",
       "      <td>1630</td>\n",
       "    </tr>\n",
       "    <tr>\n",
       "      <th>1</th>\n",
       "      <td>AIRBUS INDUSTRIE</td>\n",
       "      <td>400</td>\n",
       "    </tr>\n",
       "  </tbody>\n",
       "</table>\n",
       "</div>"
      ],
      "text/plain": [
       "       manufacturer  howmany\n",
       "0            BOEING     1630\n",
       "1  AIRBUS INDUSTRIE      400"
      ]
     },
     "execution_count": 51,
     "metadata": {},
     "output_type": "execute_result"
    }
   ],
   "source": [
    "start = timeit.default_timer()\n",
    "\n",
    "sql_14 = pd.read_sql_query('''\n",
    "    SELECT manufacturer, COUNT(*) AS howmany\n",
    "    FROM planes\n",
    "    GROUP BY manufacturer\n",
    "    ORDER BY howmany DESC LIMIT 5\n",
    "    ''', conn)\n",
    "\n",
    "end = timeit.default_timer()\n",
    "t1 = timer_results(start, end, sql_14)\n",
    "\n",
    "sql_14.head(2)"
   ]
  },
  {
   "cell_type": "code",
   "execution_count": 52,
   "id": "41c64ee5",
   "metadata": {},
   "outputs": [
    {
     "data": {
      "text/markdown": [
       "**Shape**: (5, 2). **Processing Time:** 0.0050162079999998."
      ],
      "text/plain": [
       "<IPython.core.display.Markdown object>"
      ]
     },
     "metadata": {},
     "output_type": "display_data"
    },
    {
     "data": {
      "text/html": [
       "<div>\n",
       "<style scoped>\n",
       "    .dataframe tbody tr th:only-of-type {\n",
       "        vertical-align: middle;\n",
       "    }\n",
       "\n",
       "    .dataframe tbody tr th {\n",
       "        vertical-align: top;\n",
       "    }\n",
       "\n",
       "    .dataframe thead th {\n",
       "        text-align: right;\n",
       "    }\n",
       "</style>\n",
       "<table border=\"1\" class=\"dataframe\">\n",
       "  <thead>\n",
       "    <tr style=\"text-align: right;\">\n",
       "      <th></th>\n",
       "      <th>manufacturer</th>\n",
       "      <th>howmany</th>\n",
       "    </tr>\n",
       "  </thead>\n",
       "  <tbody>\n",
       "    <tr>\n",
       "      <th>0</th>\n",
       "      <td>BOEING</td>\n",
       "      <td>1630</td>\n",
       "    </tr>\n",
       "    <tr>\n",
       "      <th>1</th>\n",
       "      <td>AIRBUS INDUSTRIE</td>\n",
       "      <td>400</td>\n",
       "    </tr>\n",
       "    <tr>\n",
       "      <th>2</th>\n",
       "      <td>BOMBARDIER INC</td>\n",
       "      <td>368</td>\n",
       "    </tr>\n",
       "    <tr>\n",
       "      <th>3</th>\n",
       "      <td>AIRBUS</td>\n",
       "      <td>336</td>\n",
       "    </tr>\n",
       "    <tr>\n",
       "      <th>4</th>\n",
       "      <td>EMBRAER</td>\n",
       "      <td>299</td>\n",
       "    </tr>\n",
       "  </tbody>\n",
       "</table>\n",
       "</div>"
      ],
      "text/plain": [
       "       manufacturer  howmany\n",
       "0            BOEING     1630\n",
       "1  AIRBUS INDUSTRIE      400\n",
       "2    BOMBARDIER INC      368\n",
       "3            AIRBUS      336\n",
       "4           EMBRAER      299"
      ]
     },
     "execution_count": 52,
     "metadata": {},
     "output_type": "execute_result"
    }
   ],
   "source": [
    "start = timeit.default_timer()\n",
    "\n",
    "pd_14 = Planes.groupby(['manufacturer'])['manufacturer'].count()\n",
    "pd_14 = pd.DataFrame(pd_14)\n",
    "pd_14.rename(columns={'manufacturer': 'howmany'}, inplace=True)\n",
    "pd_14.sort_values('howmany', ascending=False, inplace=True)\n",
    "pd_14 = pd_14[:5]\n",
    "pd_14.reset_index(inplace=True)\n",
    "\n",
    "end = timeit.default_timer()\n",
    "t2 = timer_results(start, end, pd_14)\n",
    "\n",
    "pd_14"
   ]
  },
  {
   "cell_type": "code",
   "execution_count": 53,
   "id": "1743d586",
   "metadata": {},
   "outputs": [
    {
     "data": {
      "text/markdown": [
       "The **SQL** Query was a factor of 1.73 times faster than the Pandas."
      ],
      "text/plain": [
       "<IPython.core.display.Markdown object>"
      ]
     },
     "metadata": {},
     "output_type": "display_data"
    },
    {
     "data": {
      "text/markdown": [
       "<h3><span style=\"color:#008000\">Pandas SQL & Pure Pandas objects are a match!</span><h3>"
      ],
      "text/plain": [
       "<IPython.core.display.Markdown object>"
      ]
     },
     "metadata": {},
     "output_type": "display_data"
    }
   ],
   "source": [
    "# Comparing the returned objects from each query above. \n",
    "obj_1 = sql_14\n",
    "obj_2 = pd_14\n",
    "\n",
    "compare(obj_1, obj_2, t1, t2)\n",
    "pd.testing.assert_frame_equal(obj_1, obj_2)"
   ]
  },
  {
   "cell_type": "markdown",
   "id": "c7eb5a67",
   "metadata": {},
   "source": [
    "----\n",
    "15. **`SELECT\n",
    "flights.*,\n",
    "planes.year AS plane_year,\n",
    "planes.speed AS plane_speed,\n",
    "planes.seats AS plane_seats\n",
    "FROM flights LEFT JOIN planes ON flights.tailnum=planes.tailnum`**\n",
    "\n",
    "The query is perfomring a left join on the `Planes` dataset from the `Flights` dataset using the `tailnumber` as the unique identifier while limiting and renaming the columns from `Planes` to `plane_year`, `plane_speed`, and `plane_seats`. A left join here ensure all columns select from `Flights` remain even if there are no matches in `Planes`."
   ]
  },
  {
   "cell_type": "code",
   "execution_count": 54,
   "id": "967d57fd",
   "metadata": {},
   "outputs": [
    {
     "data": {
      "text/markdown": [
       "**Shape**: (336776, 22). **Processing Time:** 2.9499360810000006."
      ],
      "text/plain": [
       "<IPython.core.display.Markdown object>"
      ]
     },
     "metadata": {},
     "output_type": "display_data"
    },
    {
     "data": {
      "text/html": [
       "<div>\n",
       "<style scoped>\n",
       "    .dataframe tbody tr th:only-of-type {\n",
       "        vertical-align: middle;\n",
       "    }\n",
       "\n",
       "    .dataframe tbody tr th {\n",
       "        vertical-align: top;\n",
       "    }\n",
       "\n",
       "    .dataframe thead th {\n",
       "        text-align: right;\n",
       "    }\n",
       "</style>\n",
       "<table border=\"1\" class=\"dataframe\">\n",
       "  <thead>\n",
       "    <tr style=\"text-align: right;\">\n",
       "      <th></th>\n",
       "      <th>year</th>\n",
       "      <th>month</th>\n",
       "      <th>day</th>\n",
       "      <th>dep_time</th>\n",
       "      <th>sched_dep_time</th>\n",
       "      <th>dep_delay</th>\n",
       "      <th>arr_time</th>\n",
       "      <th>sched_arr_time</th>\n",
       "      <th>arr_delay</th>\n",
       "      <th>carrier</th>\n",
       "      <th>...</th>\n",
       "      <th>origin</th>\n",
       "      <th>dest</th>\n",
       "      <th>air_time</th>\n",
       "      <th>distance</th>\n",
       "      <th>hour</th>\n",
       "      <th>minute</th>\n",
       "      <th>time_hour</th>\n",
       "      <th>plane_year</th>\n",
       "      <th>plane_speed</th>\n",
       "      <th>plane_seats</th>\n",
       "    </tr>\n",
       "  </thead>\n",
       "  <tbody>\n",
       "    <tr>\n",
       "      <th>0</th>\n",
       "      <td>2013</td>\n",
       "      <td>1</td>\n",
       "      <td>1</td>\n",
       "      <td>517.0</td>\n",
       "      <td>515</td>\n",
       "      <td>2.0</td>\n",
       "      <td>830.0</td>\n",
       "      <td>819</td>\n",
       "      <td>11.0</td>\n",
       "      <td>UA</td>\n",
       "      <td>...</td>\n",
       "      <td>EWR</td>\n",
       "      <td>IAH</td>\n",
       "      <td>227.0</td>\n",
       "      <td>1400</td>\n",
       "      <td>5</td>\n",
       "      <td>15</td>\n",
       "      <td>2013-01-01 05:00:00</td>\n",
       "      <td>1999.0</td>\n",
       "      <td>NaN</td>\n",
       "      <td>149.0</td>\n",
       "    </tr>\n",
       "    <tr>\n",
       "      <th>1</th>\n",
       "      <td>2013</td>\n",
       "      <td>1</td>\n",
       "      <td>1</td>\n",
       "      <td>533.0</td>\n",
       "      <td>529</td>\n",
       "      <td>4.0</td>\n",
       "      <td>850.0</td>\n",
       "      <td>830</td>\n",
       "      <td>20.0</td>\n",
       "      <td>UA</td>\n",
       "      <td>...</td>\n",
       "      <td>LGA</td>\n",
       "      <td>IAH</td>\n",
       "      <td>227.0</td>\n",
       "      <td>1416</td>\n",
       "      <td>5</td>\n",
       "      <td>29</td>\n",
       "      <td>2013-01-01 05:00:00</td>\n",
       "      <td>1998.0</td>\n",
       "      <td>NaN</td>\n",
       "      <td>149.0</td>\n",
       "    </tr>\n",
       "  </tbody>\n",
       "</table>\n",
       "<p>2 rows × 22 columns</p>\n",
       "</div>"
      ],
      "text/plain": [
       "   year  month  day  dep_time  sched_dep_time  dep_delay  arr_time  \\\n",
       "0  2013      1    1     517.0             515        2.0     830.0   \n",
       "1  2013      1    1     533.0             529        4.0     850.0   \n",
       "\n",
       "   sched_arr_time  arr_delay carrier  ...  origin dest air_time distance  \\\n",
       "0             819       11.0      UA  ...     EWR  IAH    227.0     1400   \n",
       "1             830       20.0      UA  ...     LGA  IAH    227.0     1416   \n",
       "\n",
       "   hour  minute            time_hour  plane_year plane_speed  plane_seats  \n",
       "0     5      15  2013-01-01 05:00:00      1999.0         NaN        149.0  \n",
       "1     5      29  2013-01-01 05:00:00      1998.0         NaN        149.0  \n",
       "\n",
       "[2 rows x 22 columns]"
      ]
     },
     "execution_count": 54,
     "metadata": {},
     "output_type": "execute_result"
    }
   ],
   "source": [
    "start = timeit.default_timer()\n",
    "\n",
    "sql_15 = pd.read_sql_query('''\n",
    "    SELECT\n",
    "    flights.*,\n",
    "    planes.year AS plane_year,\n",
    "    planes.speed AS plane_speed,\n",
    "    planes.seats AS plane_seats\n",
    "    FROM flights LEFT JOIN planes ON flights.tailnum=planes.tailnum\n",
    "    ''', conn)\n",
    "\n",
    "end = timeit.default_timer()\n",
    "t1 = timer_results(start, end, sql_15)\n",
    "\n",
    "sql_15.head(2)"
   ]
  },
  {
   "cell_type": "code",
   "execution_count": 55,
   "id": "7d4a2d3b",
   "metadata": {},
   "outputs": [
    {
     "data": {
      "text/markdown": [
       "**Shape**: (336776, 22). **Processing Time:** 0.21031892199999902."
      ],
      "text/plain": [
       "<IPython.core.display.Markdown object>"
      ]
     },
     "metadata": {},
     "output_type": "display_data"
    },
    {
     "data": {
      "text/html": [
       "<div>\n",
       "<style scoped>\n",
       "    .dataframe tbody tr th:only-of-type {\n",
       "        vertical-align: middle;\n",
       "    }\n",
       "\n",
       "    .dataframe tbody tr th {\n",
       "        vertical-align: top;\n",
       "    }\n",
       "\n",
       "    .dataframe thead th {\n",
       "        text-align: right;\n",
       "    }\n",
       "</style>\n",
       "<table border=\"1\" class=\"dataframe\">\n",
       "  <thead>\n",
       "    <tr style=\"text-align: right;\">\n",
       "      <th></th>\n",
       "      <th>year</th>\n",
       "      <th>month</th>\n",
       "      <th>day</th>\n",
       "      <th>dep_time</th>\n",
       "      <th>sched_dep_time</th>\n",
       "      <th>dep_delay</th>\n",
       "      <th>arr_time</th>\n",
       "      <th>sched_arr_time</th>\n",
       "      <th>arr_delay</th>\n",
       "      <th>carrier</th>\n",
       "      <th>...</th>\n",
       "      <th>origin</th>\n",
       "      <th>dest</th>\n",
       "      <th>air_time</th>\n",
       "      <th>distance</th>\n",
       "      <th>hour</th>\n",
       "      <th>minute</th>\n",
       "      <th>time_hour</th>\n",
       "      <th>plane_year</th>\n",
       "      <th>plane_speed</th>\n",
       "      <th>plane_seats</th>\n",
       "    </tr>\n",
       "  </thead>\n",
       "  <tbody>\n",
       "    <tr>\n",
       "      <th>0</th>\n",
       "      <td>2013</td>\n",
       "      <td>1</td>\n",
       "      <td>1</td>\n",
       "      <td>517.0</td>\n",
       "      <td>515</td>\n",
       "      <td>2.0</td>\n",
       "      <td>830.0</td>\n",
       "      <td>819</td>\n",
       "      <td>11.0</td>\n",
       "      <td>UA</td>\n",
       "      <td>...</td>\n",
       "      <td>EWR</td>\n",
       "      <td>IAH</td>\n",
       "      <td>227.0</td>\n",
       "      <td>1400</td>\n",
       "      <td>5</td>\n",
       "      <td>15</td>\n",
       "      <td>2013-01-01 05:00:00</td>\n",
       "      <td>1999.0</td>\n",
       "      <td>NaN</td>\n",
       "      <td>149.0</td>\n",
       "    </tr>\n",
       "    <tr>\n",
       "      <th>1</th>\n",
       "      <td>2013</td>\n",
       "      <td>1</td>\n",
       "      <td>1</td>\n",
       "      <td>533.0</td>\n",
       "      <td>529</td>\n",
       "      <td>4.0</td>\n",
       "      <td>850.0</td>\n",
       "      <td>830</td>\n",
       "      <td>20.0</td>\n",
       "      <td>UA</td>\n",
       "      <td>...</td>\n",
       "      <td>LGA</td>\n",
       "      <td>IAH</td>\n",
       "      <td>227.0</td>\n",
       "      <td>1416</td>\n",
       "      <td>5</td>\n",
       "      <td>29</td>\n",
       "      <td>2013-01-01 05:00:00</td>\n",
       "      <td>1998.0</td>\n",
       "      <td>NaN</td>\n",
       "      <td>149.0</td>\n",
       "    </tr>\n",
       "    <tr>\n",
       "      <th>2</th>\n",
       "      <td>2013</td>\n",
       "      <td>1</td>\n",
       "      <td>1</td>\n",
       "      <td>542.0</td>\n",
       "      <td>540</td>\n",
       "      <td>2.0</td>\n",
       "      <td>923.0</td>\n",
       "      <td>850</td>\n",
       "      <td>33.0</td>\n",
       "      <td>AA</td>\n",
       "      <td>...</td>\n",
       "      <td>JFK</td>\n",
       "      <td>MIA</td>\n",
       "      <td>160.0</td>\n",
       "      <td>1089</td>\n",
       "      <td>5</td>\n",
       "      <td>40</td>\n",
       "      <td>2013-01-01 05:00:00</td>\n",
       "      <td>1990.0</td>\n",
       "      <td>NaN</td>\n",
       "      <td>178.0</td>\n",
       "    </tr>\n",
       "    <tr>\n",
       "      <th>3</th>\n",
       "      <td>2013</td>\n",
       "      <td>1</td>\n",
       "      <td>1</td>\n",
       "      <td>544.0</td>\n",
       "      <td>545</td>\n",
       "      <td>-1.0</td>\n",
       "      <td>1004.0</td>\n",
       "      <td>1022</td>\n",
       "      <td>-18.0</td>\n",
       "      <td>B6</td>\n",
       "      <td>...</td>\n",
       "      <td>JFK</td>\n",
       "      <td>BQN</td>\n",
       "      <td>183.0</td>\n",
       "      <td>1576</td>\n",
       "      <td>5</td>\n",
       "      <td>45</td>\n",
       "      <td>2013-01-01 05:00:00</td>\n",
       "      <td>2012.0</td>\n",
       "      <td>NaN</td>\n",
       "      <td>200.0</td>\n",
       "    </tr>\n",
       "    <tr>\n",
       "      <th>4</th>\n",
       "      <td>2013</td>\n",
       "      <td>1</td>\n",
       "      <td>1</td>\n",
       "      <td>554.0</td>\n",
       "      <td>600</td>\n",
       "      <td>-6.0</td>\n",
       "      <td>812.0</td>\n",
       "      <td>837</td>\n",
       "      <td>-25.0</td>\n",
       "      <td>DL</td>\n",
       "      <td>...</td>\n",
       "      <td>LGA</td>\n",
       "      <td>ATL</td>\n",
       "      <td>116.0</td>\n",
       "      <td>762</td>\n",
       "      <td>6</td>\n",
       "      <td>0</td>\n",
       "      <td>2013-01-01 06:00:00</td>\n",
       "      <td>1991.0</td>\n",
       "      <td>NaN</td>\n",
       "      <td>178.0</td>\n",
       "    </tr>\n",
       "  </tbody>\n",
       "</table>\n",
       "<p>5 rows × 22 columns</p>\n",
       "</div>"
      ],
      "text/plain": [
       "   year  month  day  dep_time  sched_dep_time  dep_delay  arr_time  \\\n",
       "0  2013      1    1     517.0             515        2.0     830.0   \n",
       "1  2013      1    1     533.0             529        4.0     850.0   \n",
       "2  2013      1    1     542.0             540        2.0     923.0   \n",
       "3  2013      1    1     544.0             545       -1.0    1004.0   \n",
       "4  2013      1    1     554.0             600       -6.0     812.0   \n",
       "\n",
       "   sched_arr_time  arr_delay carrier  ...  origin dest air_time distance  \\\n",
       "0             819       11.0      UA  ...     EWR  IAH    227.0     1400   \n",
       "1             830       20.0      UA  ...     LGA  IAH    227.0     1416   \n",
       "2             850       33.0      AA  ...     JFK  MIA    160.0     1089   \n",
       "3            1022      -18.0      B6  ...     JFK  BQN    183.0     1576   \n",
       "4             837      -25.0      DL  ...     LGA  ATL    116.0      762   \n",
       "\n",
       "   hour  minute            time_hour  plane_year plane_speed  plane_seats  \n",
       "0     5      15  2013-01-01 05:00:00      1999.0         NaN        149.0  \n",
       "1     5      29  2013-01-01 05:00:00      1998.0         NaN        149.0  \n",
       "2     5      40  2013-01-01 05:00:00      1990.0         NaN        178.0  \n",
       "3     5      45  2013-01-01 05:00:00      2012.0         NaN        200.0  \n",
       "4     6       0  2013-01-01 06:00:00      1991.0         NaN        178.0  \n",
       "\n",
       "[5 rows x 22 columns]"
      ]
     },
     "execution_count": 55,
     "metadata": {},
     "output_type": "execute_result"
    }
   ],
   "source": [
    "start = timeit.default_timer()\n",
    "\n",
    "pd_15 = Planes[['year', 'speed', 'seats', 'tailnum']]\n",
    "pd_15 = pd_15.rename(columns={'year': 'plane_year', 'speed': 'plane_speed', 'seats': 'plane_seats'})\n",
    "pd_15 = pd.merge(Flights, pd_15, how='left', on='tailnum')\n",
    "\n",
    "end = timeit.default_timer()\n",
    "t2 = timer_results(start, end, pd_15)\n",
    "\n",
    "pd_15.head()"
   ]
  },
  {
   "cell_type": "code",
   "execution_count": 56,
   "id": "db1d82c0",
   "metadata": {},
   "outputs": [
    {
     "data": {
      "text/markdown": [
       "The **Pandas** Query was a factor of 14.03 times faster than the SQL."
      ],
      "text/plain": [
       "<IPython.core.display.Markdown object>"
      ]
     },
     "metadata": {},
     "output_type": "display_data"
    },
    {
     "data": {
      "text/markdown": [
       "<h3><span style=\"color:#008000\">Pandas SQL & Pure Pandas objects are a match!</span><h3>"
      ],
      "text/plain": [
       "<IPython.core.display.Markdown object>"
      ]
     },
     "metadata": {},
     "output_type": "display_data"
    }
   ],
   "source": [
    "# Comparing the returned objects from each query above. \n",
    "obj_1 = sql_15\n",
    "obj_2 = pd_15\n",
    "\n",
    "compare(obj_1, obj_2, t1, t2)\n",
    "pd.testing.assert_frame_equal(obj_1, obj_2)"
   ]
  },
  {
   "cell_type": "markdown",
   "id": "ea55c2af",
   "metadata": {},
   "source": [
    "----\n",
    "16. **`SELECT planes.*, airlines.* FROM\n",
    "(SELECT DISTINCT carrier, tailnum FROM flights) AS cartail\n",
    "INNER JOIN planes ON cartail.tailnum=planes.tailnum\n",
    "INNER JOIN airlines ON cartail.carrier=airlines.carrier`**\n",
    "\n",
    "This query combines attributes from three different datasets. Firstly grouping `carrier` and `tailnum` from flights so there are no unnecessary duplicates and naming the grouped object as `cartail`. Then performing a inner join (*an inner join only returns matches*) on `cartail` with `Planes` using `tailnum` as the identifier, before performing another inner join on `cartail` with `Airlines` using `carrier` as the unique identifier."
   ]
  },
  {
   "cell_type": "code",
   "execution_count": 57,
   "id": "09aedcc4",
   "metadata": {},
   "outputs": [
    {
     "data": {
      "text/markdown": [
       "**Shape**: (3339, 11). **Processing Time:** 0.1989943400000005."
      ],
      "text/plain": [
       "<IPython.core.display.Markdown object>"
      ]
     },
     "metadata": {},
     "output_type": "display_data"
    },
    {
     "data": {
      "text/html": [
       "<div>\n",
       "<style scoped>\n",
       "    .dataframe tbody tr th:only-of-type {\n",
       "        vertical-align: middle;\n",
       "    }\n",
       "\n",
       "    .dataframe tbody tr th {\n",
       "        vertical-align: top;\n",
       "    }\n",
       "\n",
       "    .dataframe thead th {\n",
       "        text-align: right;\n",
       "    }\n",
       "</style>\n",
       "<table border=\"1\" class=\"dataframe\">\n",
       "  <thead>\n",
       "    <tr style=\"text-align: right;\">\n",
       "      <th></th>\n",
       "      <th>tailnum</th>\n",
       "      <th>year</th>\n",
       "      <th>type</th>\n",
       "      <th>manufacturer</th>\n",
       "      <th>model</th>\n",
       "      <th>engines</th>\n",
       "      <th>seats</th>\n",
       "      <th>speed</th>\n",
       "      <th>engine</th>\n",
       "      <th>carrier</th>\n",
       "      <th>name</th>\n",
       "    </tr>\n",
       "  </thead>\n",
       "  <tbody>\n",
       "    <tr>\n",
       "      <th>0</th>\n",
       "      <td>N10156</td>\n",
       "      <td>2004.0</td>\n",
       "      <td>Fixed wing multi engine</td>\n",
       "      <td>EMBRAER</td>\n",
       "      <td>EMB-145XR</td>\n",
       "      <td>2</td>\n",
       "      <td>55</td>\n",
       "      <td>NaN</td>\n",
       "      <td>Turbo-fan</td>\n",
       "      <td>EV</td>\n",
       "      <td>ExpressJet Airlines Inc.</td>\n",
       "    </tr>\n",
       "    <tr>\n",
       "      <th>1</th>\n",
       "      <td>N102UW</td>\n",
       "      <td>1998.0</td>\n",
       "      <td>Fixed wing multi engine</td>\n",
       "      <td>AIRBUS INDUSTRIE</td>\n",
       "      <td>A320-214</td>\n",
       "      <td>2</td>\n",
       "      <td>182</td>\n",
       "      <td>NaN</td>\n",
       "      <td>Turbo-fan</td>\n",
       "      <td>US</td>\n",
       "      <td>US Airways Inc.</td>\n",
       "    </tr>\n",
       "  </tbody>\n",
       "</table>\n",
       "</div>"
      ],
      "text/plain": [
       "  tailnum    year                     type      manufacturer      model  \\\n",
       "0  N10156  2004.0  Fixed wing multi engine           EMBRAER  EMB-145XR   \n",
       "1  N102UW  1998.0  Fixed wing multi engine  AIRBUS INDUSTRIE   A320-214   \n",
       "\n",
       "   engines  seats  speed     engine carrier                      name  \n",
       "0        2     55    NaN  Turbo-fan      EV  ExpressJet Airlines Inc.  \n",
       "1        2    182    NaN  Turbo-fan      US           US Airways Inc.  "
      ]
     },
     "execution_count": 57,
     "metadata": {},
     "output_type": "execute_result"
    }
   ],
   "source": [
    "start = timeit.default_timer()\n",
    "\n",
    "sql_16 = pd.read_sql_query('''\n",
    "    SELECT planes.*, airlines.* FROM\n",
    "    (SELECT DISTINCT carrier, tailnum FROM flights) AS cartail\n",
    "    INNER JOIN planes ON cartail.tailnum=planes.tailnum\n",
    "    INNER JOIN airlines ON cartail.carrier=airlines.carrier\n",
    "    ''', conn)\n",
    "\n",
    "# Sorting 'tailnum', 'carrier' values so the order doesn't cause issues. \n",
    "sql_16 = sql_16.sort_values(['tailnum', 'carrier']).reset_index(drop=True) \n",
    "\n",
    "end = timeit.default_timer()\n",
    "t1 = timer_results(start, end, sql_16)\n",
    "\n",
    "sql_16.head(2)"
   ]
  },
  {
   "cell_type": "code",
   "execution_count": 58,
   "id": "558212af",
   "metadata": {},
   "outputs": [
    {
     "data": {
      "text/markdown": [
       "**Shape**: (3339, 11). **Processing Time:** 0.078871165999999."
      ],
      "text/plain": [
       "<IPython.core.display.Markdown object>"
      ]
     },
     "metadata": {},
     "output_type": "display_data"
    },
    {
     "data": {
      "text/html": [
       "<div>\n",
       "<style scoped>\n",
       "    .dataframe tbody tr th:only-of-type {\n",
       "        vertical-align: middle;\n",
       "    }\n",
       "\n",
       "    .dataframe tbody tr th {\n",
       "        vertical-align: top;\n",
       "    }\n",
       "\n",
       "    .dataframe thead th {\n",
       "        text-align: right;\n",
       "    }\n",
       "</style>\n",
       "<table border=\"1\" class=\"dataframe\">\n",
       "  <thead>\n",
       "    <tr style=\"text-align: right;\">\n",
       "      <th></th>\n",
       "      <th>tailnum</th>\n",
       "      <th>year</th>\n",
       "      <th>type</th>\n",
       "      <th>manufacturer</th>\n",
       "      <th>model</th>\n",
       "      <th>engines</th>\n",
       "      <th>seats</th>\n",
       "      <th>speed</th>\n",
       "      <th>engine</th>\n",
       "      <th>carrier</th>\n",
       "      <th>name</th>\n",
       "    </tr>\n",
       "  </thead>\n",
       "  <tbody>\n",
       "    <tr>\n",
       "      <th>0</th>\n",
       "      <td>N10156</td>\n",
       "      <td>2004.0</td>\n",
       "      <td>Fixed wing multi engine</td>\n",
       "      <td>EMBRAER</td>\n",
       "      <td>EMB-145XR</td>\n",
       "      <td>2</td>\n",
       "      <td>55</td>\n",
       "      <td>NaN</td>\n",
       "      <td>Turbo-fan</td>\n",
       "      <td>EV</td>\n",
       "      <td>ExpressJet Airlines Inc.</td>\n",
       "    </tr>\n",
       "    <tr>\n",
       "      <th>1</th>\n",
       "      <td>N102UW</td>\n",
       "      <td>1998.0</td>\n",
       "      <td>Fixed wing multi engine</td>\n",
       "      <td>AIRBUS INDUSTRIE</td>\n",
       "      <td>A320-214</td>\n",
       "      <td>2</td>\n",
       "      <td>182</td>\n",
       "      <td>NaN</td>\n",
       "      <td>Turbo-fan</td>\n",
       "      <td>US</td>\n",
       "      <td>US Airways Inc.</td>\n",
       "    </tr>\n",
       "    <tr>\n",
       "      <th>2</th>\n",
       "      <td>N103US</td>\n",
       "      <td>1999.0</td>\n",
       "      <td>Fixed wing multi engine</td>\n",
       "      <td>AIRBUS INDUSTRIE</td>\n",
       "      <td>A320-214</td>\n",
       "      <td>2</td>\n",
       "      <td>182</td>\n",
       "      <td>NaN</td>\n",
       "      <td>Turbo-fan</td>\n",
       "      <td>US</td>\n",
       "      <td>US Airways Inc.</td>\n",
       "    </tr>\n",
       "    <tr>\n",
       "      <th>3</th>\n",
       "      <td>N104UW</td>\n",
       "      <td>1999.0</td>\n",
       "      <td>Fixed wing multi engine</td>\n",
       "      <td>AIRBUS INDUSTRIE</td>\n",
       "      <td>A320-214</td>\n",
       "      <td>2</td>\n",
       "      <td>182</td>\n",
       "      <td>NaN</td>\n",
       "      <td>Turbo-fan</td>\n",
       "      <td>US</td>\n",
       "      <td>US Airways Inc.</td>\n",
       "    </tr>\n",
       "    <tr>\n",
       "      <th>4</th>\n",
       "      <td>N10575</td>\n",
       "      <td>2002.0</td>\n",
       "      <td>Fixed wing multi engine</td>\n",
       "      <td>EMBRAER</td>\n",
       "      <td>EMB-145LR</td>\n",
       "      <td>2</td>\n",
       "      <td>55</td>\n",
       "      <td>NaN</td>\n",
       "      <td>Turbo-fan</td>\n",
       "      <td>EV</td>\n",
       "      <td>ExpressJet Airlines Inc.</td>\n",
       "    </tr>\n",
       "  </tbody>\n",
       "</table>\n",
       "</div>"
      ],
      "text/plain": [
       "  tailnum    year                     type      manufacturer      model  \\\n",
       "0  N10156  2004.0  Fixed wing multi engine           EMBRAER  EMB-145XR   \n",
       "1  N102UW  1998.0  Fixed wing multi engine  AIRBUS INDUSTRIE   A320-214   \n",
       "2  N103US  1999.0  Fixed wing multi engine  AIRBUS INDUSTRIE   A320-214   \n",
       "3  N104UW  1999.0  Fixed wing multi engine  AIRBUS INDUSTRIE   A320-214   \n",
       "4  N10575  2002.0  Fixed wing multi engine           EMBRAER  EMB-145LR   \n",
       "\n",
       "   engines  seats  speed     engine carrier                      name  \n",
       "0        2     55    NaN  Turbo-fan      EV  ExpressJet Airlines Inc.  \n",
       "1        2    182    NaN  Turbo-fan      US           US Airways Inc.  \n",
       "2        2    182    NaN  Turbo-fan      US           US Airways Inc.  \n",
       "3        2    182    NaN  Turbo-fan      US           US Airways Inc.  \n",
       "4        2     55    NaN  Turbo-fan      EV  ExpressJet Airlines Inc.  "
      ]
     },
     "execution_count": 58,
     "metadata": {},
     "output_type": "execute_result"
    }
   ],
   "source": [
    "start = timeit.default_timer()\n",
    "\n",
    "cartail = Flights.groupby(['carrier', 'tailnum'], as_index=False)['distance'].sum()\n",
    "cartail.drop('distance', axis=1, inplace=True)\n",
    "pd_16 = pd.merge(Planes, cartail, how='inner', on='tailnum')\n",
    "pd_16 = pd.merge(pd_16, Airlines, how='inner', on='carrier')\n",
    "\n",
    "# Sorting 'tailnum', 'carrier' values to match the SQL output order.\n",
    "pd_16 = pd_16.sort_values(['tailnum', 'carrier']).reset_index(drop=True) \n",
    "\n",
    "end = timeit.default_timer()\n",
    "t2 = timer_results(start, end, pd_16)\n",
    "\n",
    "pd_16.head()"
   ]
  },
  {
   "cell_type": "code",
   "execution_count": 59,
   "id": "3dbbcde5",
   "metadata": {},
   "outputs": [
    {
     "data": {
      "text/markdown": [
       "The **Pandas** Query was a factor of 2.52 times faster than the SQL."
      ],
      "text/plain": [
       "<IPython.core.display.Markdown object>"
      ]
     },
     "metadata": {},
     "output_type": "display_data"
    },
    {
     "data": {
      "text/markdown": [
       "<h3><span style=\"color:#008000\">Pandas SQL & Pure Pandas objects are a match!</span><h3>"
      ],
      "text/plain": [
       "<IPython.core.display.Markdown object>"
      ]
     },
     "metadata": {},
     "output_type": "display_data"
    }
   ],
   "source": [
    "# Comparing the returned objects from each query above. \n",
    "obj_1 = sql_16\n",
    "obj_2 = pd_16\n",
    "\n",
    "compare(obj_1, obj_2, t1, t2)\n",
    "pd.testing.assert_frame_equal(obj_1, obj_2)"
   ]
  },
  {
   "cell_type": "markdown",
   "id": "14ec024a",
   "metadata": {},
   "source": [
    "## Processing Speed of each Query\n",
    "\n",
    "Looking over the results of the processing times from each of the queries, it seems that when the query is relatively simple SQL performs better, in most cases. I would assume that this is only due to the number of function calls required to wrangle the Pandas Dataframe into a similar object. If the Pandas query can be completed in one or two calls then Pandas seems to perform better. The more complex queries were faster with pure Pandas. "
   ]
  },
  {
   "cell_type": "markdown",
   "id": "ed164519",
   "metadata": {},
   "source": [
    "<hr style=\"height:1px; width:100%\">\n",
    "<h3> References </h3>\n",
    "\n",
    "* [Minimalist Data Wrangling with Python](https://datawranglingpy.gagolewski.com/index.html) - Dr habil. Marek Gagolewski. \n",
    "* [Pandas Documentation](https://pandas.pydata.org/docs/reference/frame.html) - Dataframes & Grouby Objects. "
   ]
  }
 ],
 "metadata": {
  "kernelspec": {
   "display_name": "Python 3 (ipykernel)",
   "language": "python",
   "name": "python3"
  },
  "language_info": {
   "codemirror_mode": {
    "name": "ipython",
    "version": 3
   },
   "file_extension": ".py",
   "mimetype": "text/x-python",
   "name": "python",
   "nbconvert_exporter": "python",
   "pygments_lexer": "ipython3",
   "version": "3.9.7"
  }
 },
 "nbformat": 4,
 "nbformat_minor": 5
}
