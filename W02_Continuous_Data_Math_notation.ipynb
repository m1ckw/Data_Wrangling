{
 "cells": [
  {
   "cell_type": "code",
   "execution_count": 1,
   "id": "485bc615",
   "metadata": {},
   "outputs": [],
   "source": [
    "import numpy as np\n",
    "import matplotlib.pyplot as plt\n",
    "import seaborn as sns\n",
    "plt.style.use(\"seaborn\")"
   ]
  },
  {
   "cell_type": "code",
   "execution_count": 2,
   "id": "1ca201c1",
   "metadata": {},
   "outputs": [
    {
     "name": "stdout",
     "output_type": "stream",
     "text": [
      "    0-10000:   29\n",
      "10000-20000:  207\n",
      "20000-30000:  263\n",
      "30000-40000:  196\n",
      "40000-50000:  117\n",
      "50000-60000:   74\n",
      "60000-80000:   64\n",
      "80000-  inf:   50\n"
     ]
    }
   ],
   "source": [
    "income = np.loadtxt(\"https://raw.githubusercontent.com/gagolews/\" +\n",
    "    \"teaching-data/master/marek/uk_income_simulated_2020.txt\")\n",
    "b = [0, 10000, 20000, 30000, 40000, 50000, 60000, 80000, np.inf]  # bin bounds\n",
    "c = np.histogram(income, bins=b)[0]  # counts\n",
    "for i in range(len(c)):\n",
    "    print(f\"{b[i]:5}-{b[i+1]:5}: {c[i]:4}\")"
   ]
  },
  {
   "cell_type": "code",
   "execution_count": 3,
   "id": "142d01fe",
   "metadata": {},
   "outputs": [
    {
     "data": {
      "text/plain": [
       "(131.1, 189.3)"
      ]
     },
     "execution_count": 3,
     "metadata": {},
     "output_type": "execute_result"
    }
   ],
   "source": [
    "heights = np.loadtxt(\"https://raw.githubusercontent.com/gagolews/\" +\n",
    "    \"teaching-data/master/marek/nhanes_adult_female_height_2020.txt\")\n",
    "heights_sorted = np.sort(heights)\n",
    "heights_sorted[0], heights_sorted[-1]"
   ]
  },
  {
   "cell_type": "code",
   "execution_count": 4,
   "id": "d0cd0ef2",
   "metadata": {},
   "outputs": [
    {
     "data": {
      "text/plain": [
       "(35779.994, 30042.0)"
      ]
     },
     "execution_count": 4,
     "metadata": {},
     "output_type": "execute_result"
    }
   ],
   "source": [
    "np.mean(income), np.median(income)"
   ]
  },
  {
   "cell_type": "markdown",
   "id": "e9c14391",
   "metadata": {},
   "source": [
    "The arithmetic mean is strongly influenced by very large or very small observations (which in some contexts we refer to as outliers). For instance, assume that we are adding one billionaire to the income dataset:"
   ]
  },
  {
   "cell_type": "code",
   "execution_count": 5,
   "id": "a59415d4",
   "metadata": {},
   "outputs": [
    {
     "data": {
      "text/plain": [
       "(1034745.2487512487, 30076.0)"
      ]
     },
     "execution_count": 5,
     "metadata": {},
     "output_type": "execute_result"
    }
   ],
   "source": [
    "income2 = np.append(income, [1_000_000_000])\n",
    "np.mean(income2), np.median(income2)"
   ]
  },
  {
   "cell_type": "markdown",
   "id": "987eacab",
   "metadata": {},
   "source": [
    "## Quantiles & Standard Deviation"
   ]
  },
  {
   "cell_type": "code",
   "execution_count": 6,
   "id": "b1ca41a9",
   "metadata": {},
   "outputs": [
    {
     "data": {
      "text/plain": [
       "array([  5750.  ,  20669.75,  30042.  ,  44123.75, 199969.  ])"
      ]
     },
     "execution_count": 6,
     "metadata": {},
     "output_type": "execute_result"
    }
   ],
   "source": [
    "np.quantile(income, [0, 0.25, 0.5, 0.75, 1])"
   ]
  },
  {
   "cell_type": "code",
   "execution_count": 7,
   "id": "11ed74f6",
   "metadata": {},
   "outputs": [
    {
     "data": {
      "text/plain": [
       "array([131.1, 155.3, 160.1, 164.8, 189.3])"
      ]
     },
     "execution_count": 7,
     "metadata": {},
     "output_type": "execute_result"
    }
   ],
   "source": [
    "np.quantile(heights, [0, 0.25, 0.5, 0.75, 1])"
   ]
  },
  {
   "cell_type": "code",
   "execution_count": 8,
   "id": "a992dca8",
   "metadata": {},
   "outputs": [
    {
     "data": {
      "text/plain": [
       "(22888.77122437908, 23454.0)"
      ]
     },
     "execution_count": 8,
     "metadata": {},
     "output_type": "execute_result"
    }
   ],
   "source": [
    "# STD Deviation & IQR for income\n",
    "\n",
    "np.std(income), np.quantile(income, 0.75)-np.quantile(income, 0.25)"
   ]
  },
  {
   "cell_type": "code",
   "execution_count": 9,
   "id": "afc79b5d",
   "metadata": {},
   "outputs": [
    {
     "data": {
      "text/plain": [
       "(7.062021850008261, 9.5)"
      ]
     },
     "execution_count": 9,
     "metadata": {},
     "output_type": "execute_result"
    }
   ],
   "source": [
    "np.std(heights), np.quantile(heights, 0.75)-np.quantile(heights, 0.25)"
   ]
  },
  {
   "cell_type": "markdown",
   "id": "2856f6fc",
   "metadata": {},
   "source": [
    "## Box (& Whisker) Plots\n",
    "The box and whisker plot (or the box plot for short) depicts some of the most noteworthy features of a data sample.\n",
    "\n",
    "Box plots will be particularly useful for comparing data samples with each other (e.g., heights of men and women separately)."
   ]
  },
  {
   "cell_type": "code",
   "execution_count": 15,
   "id": "85f3a49b",
   "metadata": {},
   "outputs": [
    {
     "data": {
      "image/png": "[encoded data removed]",
      "text/plain": [
       "<Figure size 576x396 with 2 Axes>"
      ]
     },
     "metadata": {},
     "output_type": "display_data"
    }
   ],
   "source": [
    "plt.subplot(211)  # 2 rows, 1 column, 1st subplot\n",
    "sns.boxplot(data=income, orient=\"h\")\n",
    "plt.title(\"Income (above), Heights (below)\")\n",
    "\n",
    "plt.subplot(212)  # 2 rows, 1 column, 2nd subplot\n",
    "sns.boxplot(data=heights, orient=\"h\")\n",
    "\n",
    "plt.show()"
   ]
  },
  {
   "cell_type": "markdown",
   "id": "41879183",
   "metadata": {},
   "source": [
    "We may also sometimes be interested in a violin plot, which combines the box plot (although with no outliers marked) and the so-called kernel density estimator (which is a smoothened version of a histogram):"
   ]
  },
  {
   "cell_type": "code",
   "execution_count": 16,
   "id": "961be2a6",
   "metadata": {},
   "outputs": [
    {
     "data": {
      "image/png": "[encoded data removed]",
      "text/plain": [
       "<Figure size 576x396 with 1 Axes>"
      ]
     },
     "metadata": {},
     "output_type": "display_data"
    }
   ],
   "source": [
    "sns.violinplot(data=income, orient=\"h\");"
   ]
  },
  {
   "cell_type": "markdown",
   "id": "ea3dea7a",
   "metadata": {},
   "source": [
    "## Measures of Shape (*)\n",
    "\n",
    "Note that from a histogram or a box plot, we can easily deduce if a dataset is symmetric or skewed.\n",
    "It turns out that we can also give a numerical summary of such a feature."
   ]
  },
  {
   "cell_type": "code",
   "execution_count": 18,
   "id": "fd86f53e",
   "metadata": {},
   "outputs": [
    {
     "data": {
      "text/plain": [
       "0.0811184528074054"
      ]
     },
     "execution_count": 18,
     "metadata": {},
     "output_type": "execute_result"
    }
   ],
   "source": [
    "import scipy.stats\n",
    "scipy.stats.skew(heights)\n",
    "\n",
    "# is thus an instance of almost-symmetric distribution. Slight left skew."
   ]
  },
  {
   "cell_type": "code",
   "execution_count": 19,
   "id": "03f41c22",
   "metadata": {},
   "outputs": [
    {
     "data": {
      "text/plain": [
       "1.9768735693998942"
      ]
     },
     "execution_count": 19,
     "metadata": {},
     "output_type": "execute_result"
    }
   ],
   "source": [
    "# Income is right skewed\n",
    "\n",
    "scipy.stats.skew(income)"
   ]
  },
  {
   "cell_type": "code",
   "execution_count": null,
   "id": "888a3e48",
   "metadata": {},
   "outputs": [],
   "source": []
  }
 ],
 "metadata": {
  "kernelspec": {
   "display_name": "Python 3 (ipykernel)",
   "language": "python",
   "name": "python3"
  },
  "language_info": {
   "codemirror_mode": {
    "name": "ipython",
    "version": 3
   },
   "file_extension": ".py",
   "mimetype": "text/x-python",
   "name": "python",
   "nbconvert_exporter": "python",
   "pygments_lexer": "ipython3",
   "version": "3.9.7"
  }
 },
 "nbformat": 4,
 "nbformat_minor": 5
}
